{
  "nbformat": 4,
  "nbformat_minor": 0,
  "metadata": {
    "colab": {
      "name": "Assignment_13:CNN_MNIST.ipynb",
      "version": "0.3.2",
      "provenance": [],
      "collapsed_sections": []
    },
    "kernelspec": {
      "name": "python3",
      "display_name": "Python 3"
    }
  },
  "cells": [
    {
      "cell_type": "code",
      "metadata": {
        "id": "H9EU0e8yzFOm",
        "colab_type": "code",
        "outputId": "3b326e08-e9da-4524-e295-97be6885f79a",
        "colab": {
          "base_uri": "https://localhost:8080/",
          "height": 126
        }
      },
      "source": [
        "# Credits: https://github.com/keras-team/keras/blob/master/examples/mnist_cnn.py\n",
        "\n",
        "\n",
        "from __future__ import print_function\n",
        "import keras\n",
        "from keras.datasets import mnist\n",
        "from keras.models import Sequential\n",
        "from keras.layers import Dense, Dropout, Flatten\n",
        "from keras.layers import Conv2D, MaxPooling2D\n",
        "from keras import backend as K\n",
        "from keras.layers.normalization import BatchNormalization\n",
        "\n",
        "batch_size = 128\n",
        "num_classes = 10\n",
        "epochs = 12\n",
        "\n",
        "# input image dimensions\n",
        "img_rows, img_cols = 28, 28\n",
        "\n",
        "# the data, split between train and test sets\n",
        "(x_train, y_train), (x_test, y_test) = mnist.load_data()\n",
        "\n",
        "if K.image_data_format() == 'channels_first':\n",
        "    x_train = x_train.reshape(x_train.shape[0], 1, img_rows, img_cols)\n",
        "    x_test = x_test.reshape(x_test.shape[0], 1, img_rows, img_cols)\n",
        "    input_shape = (1, img_rows, img_cols)\n",
        "else:\n",
        "    x_train = x_train.reshape(x_train.shape[0], img_rows, img_cols, 1)\n",
        "    x_test = x_test.reshape(x_test.shape[0], img_rows, img_cols, 1)\n",
        "    input_shape = (img_rows, img_cols, 1)\n",
        "\n",
        "x_train = x_train.astype('float32')\n",
        "x_test = x_test.astype('float32')\n",
        "x_train /= 255\n",
        "x_test /= 255\n",
        "print('x_train shape:', x_train.shape)\n",
        "print(x_train.shape[0], 'train samples')\n",
        "print(x_test.shape[0], 'test samples')\n",
        "\n",
        "# convert class vectors to binary class matrices\n",
        "y_train = keras.utils.to_categorical(y_train, num_classes)\n",
        "y_test = keras.utils.to_categorical(y_test, num_classes)"
      ],
      "execution_count": 0,
      "outputs": [
        {
          "output_type": "stream",
          "text": [
            "Using TensorFlow backend.\n"
          ],
          "name": "stderr"
        },
        {
          "output_type": "stream",
          "text": [
            "Downloading data from https://s3.amazonaws.com/img-datasets/mnist.npz\n",
            "11493376/11490434 [==============================] - 1s 0us/step\n",
            "x_train shape: (60000, 28, 28, 1)\n",
            "60000 train samples\n",
            "10000 test samples\n"
          ],
          "name": "stdout"
        }
      ]
    },
    {
      "cell_type": "code",
      "metadata": {
        "id": "lLV2ALKxbos1",
        "colab_type": "code",
        "colab": {}
      },
      "source": [
        "%matplotlib inline\n",
        "import matplotlib.pyplot as plt\n",
        "\n",
        "def plt_dynamic(x, vy, ty, ax, colors=['b']):\n",
        "    ax.plot(x, vy, 'b', label=\"Test Loss\")\n",
        "    ax.plot(x, ty, 'r', label=\"Train Loss\")\n",
        "    plt.legend()\n",
        "    plt.grid()\n",
        "    fig.canvas.draw()"
      ],
      "execution_count": 0,
      "outputs": []
    },
    {
      "cell_type": "markdown",
      "metadata": {
        "id": "YfSg33DtokmQ",
        "colab_type": "text"
      },
      "source": [
        "<h2>MODEL1 : Three Convolutional Network with Adadelta as optimizer</h2>"
      ]
    },
    {
      "cell_type": "markdown",
      "metadata": {
        "id": "cQ_RNoIGo9qB",
        "colab_type": "text"
      },
      "source": [
        "<h3>1.1 with kernal_size = (3,3), Dropout = 0.5 and MaxPooling(pool_size =(2,2))"
      ]
    },
    {
      "cell_type": "code",
      "metadata": {
        "id": "1wDU7OK3ofGU",
        "colab_type": "code",
        "outputId": "8acef73c-ad36-4ab1-a2e0-f334cfa4b53c",
        "colab": {
          "base_uri": "https://localhost:8080/",
          "height": 508
        }
      },
      "source": [
        "model = Sequential()\n",
        "model.add(Conv2D(32, kernel_size=(3, 3),\n",
        "                 activation='relu',\n",
        "                 input_shape=input_shape))\n",
        "\n",
        "model.add(Conv2D(64, (3, 3), activation='relu'))\n",
        "model.add(MaxPooling2D(pool_size=(2, 2)))\n",
        "\n",
        "model.add(Conv2D(96, (3, 3), activation='relu'))\n",
        "model.add(MaxPooling2D(pool_size=(2, 2)))\n",
        "\n",
        "model.add(Flatten())\n",
        "model.add(Dense(75, activation='relu'))\n",
        "model.add(Dropout(0.5))\n",
        "model.add(Dense(num_classes, activation='softmax'))\n",
        "\n",
        "model.compile(loss=keras.losses.categorical_crossentropy,\n",
        "              optimizer=keras.optimizers.Adadelta(),\n",
        "              metrics=['accuracy'])\n",
        "\n",
        "history=model.fit(x_train, y_train,\n",
        "          batch_size=batch_size,\n",
        "          epochs=epochs,\n",
        "          verbose=1,\n",
        "          validation_data=(x_test, y_test))\n",
        "score = model.evaluate(x_test, y_test, verbose=0)\n",
        "print('Test loss:', score[0])\n",
        "print('Test accuracy:', score[1])"
      ],
      "execution_count": 0,
      "outputs": [
        {
          "output_type": "stream",
          "text": [
            "Train on 60000 samples, validate on 10000 samples\n",
            "Epoch 1/12\n",
            "60000/60000 [==============================] - 186s 3ms/step - loss: 0.2920 - acc: 0.9100 - val_loss: 0.0505 - val_acc: 0.9849\n",
            "Epoch 2/12\n",
            "60000/60000 [==============================] - 180s 3ms/step - loss: 0.0919 - acc: 0.9726 - val_loss: 0.0427 - val_acc: 0.9868\n",
            "Epoch 3/12\n",
            "60000/60000 [==============================] - 180s 3ms/step - loss: 0.0659 - acc: 0.9804 - val_loss: 0.0275 - val_acc: 0.9907\n",
            "Epoch 4/12\n",
            "60000/60000 [==============================] - 180s 3ms/step - loss: 0.0556 - acc: 0.9842 - val_loss: 0.0280 - val_acc: 0.9901\n",
            "Epoch 5/12\n",
            "60000/60000 [==============================] - 180s 3ms/step - loss: 0.0448 - acc: 0.9873 - val_loss: 0.0250 - val_acc: 0.9922\n",
            "Epoch 6/12\n",
            "60000/60000 [==============================] - 180s 3ms/step - loss: 0.0395 - acc: 0.9890 - val_loss: 0.0267 - val_acc: 0.9923\n",
            "Epoch 7/12\n",
            "60000/60000 [==============================] - 180s 3ms/step - loss: 0.0354 - acc: 0.9898 - val_loss: 0.0267 - val_acc: 0.9913\n",
            "Epoch 8/12\n",
            "60000/60000 [==============================] - 180s 3ms/step - loss: 0.0317 - acc: 0.9906 - val_loss: 0.0263 - val_acc: 0.9922\n",
            "Epoch 9/12\n",
            "60000/60000 [==============================] - 180s 3ms/step - loss: 0.0295 - acc: 0.9911 - val_loss: 0.0215 - val_acc: 0.9935\n",
            "Epoch 10/12\n",
            "60000/60000 [==============================] - 180s 3ms/step - loss: 0.0267 - acc: 0.9923 - val_loss: 0.0170 - val_acc: 0.9951\n",
            "Epoch 11/12\n",
            "60000/60000 [==============================] - 180s 3ms/step - loss: 0.0245 - acc: 0.9927 - val_loss: 0.0193 - val_acc: 0.9939\n",
            "Epoch 12/12\n",
            "60000/60000 [==============================] - 180s 3ms/step - loss: 0.0216 - acc: 0.9932 - val_loss: 0.0242 - val_acc: 0.9937\n",
            "Test loss: 0.024166463349014566\n",
            "Test accuracy: 0.9937\n"
          ],
          "name": "stdout"
        }
      ]
    },
    {
      "cell_type": "code",
      "metadata": {
        "id": "YEeu-Mdgq2CX",
        "colab_type": "code",
        "outputId": "d190c569-0d67-4218-cf0d-ceeccb115b1a",
        "colab": {
          "base_uri": "https://localhost:8080/",
          "height": 283
        }
      },
      "source": [
        "%matplotlib inline\n",
        "import matplotlib.pyplot as plt\n",
        "\n",
        "fig,ax = plt.subplots(1,1)\n",
        "ax.set_xlabel('epoch') ; ax.set_ylabel('Categorical Crossentropy Loss')\n",
        "\n",
        "# list of epoch numbers\n",
        "x = list(range(1,epochs+1))\n",
        "\n",
        "# val_loss : validation loss\n",
        "# val_acc : validation accuracy\n",
        "\n",
        "# loss : training loss\n",
        "# acc : train accuracy\n",
        "\n",
        "vy = history.history['val_loss']\n",
        "ty = history.history['loss']\n",
        "plt_dynamic(x, vy, ty, ax)"
      ],
      "execution_count": 0,
      "outputs": [
        {
          "output_type": "display_data",
          "data": {
            "image/png": "[encoded data removed]",
            "text/plain": [
              "<Figure size 432x288 with 1 Axes>"
            ]
          },
          "metadata": {
            "tags": []
          }
        }
      ]
    },
    {
      "cell_type": "markdown",
      "metadata": {
        "id": "6z-W2gOpqdjU",
        "colab_type": "text"
      },
      "source": [
        "<h3>1.2 with kernal_size = (2,2), BN and MaxPooling</h3>"
      ]
    },
    {
      "cell_type": "code",
      "metadata": {
        "id": "rwWjoVPJ4RMo",
        "colab_type": "code",
        "outputId": "fe8fe870-6195-4e51-d768-9db5c283e90c",
        "colab": {
          "base_uri": "https://localhost:8080/",
          "height": 508
        }
      },
      "source": [
        "model = Sequential()\n",
        "model.add(Conv2D(22, kernel_size=(2, 2),\n",
        "                 activation='relu',\n",
        "                 input_shape=input_shape))\n",
        "model.add(MaxPooling2D(pool_size=(2, 2)))\n",
        "\n",
        "model.add(Conv2D(44, (2, 2), activation='relu'))\n",
        "model.add(MaxPooling2D(pool_size=(2, 2)))\n",
        "\n",
        "model.add(Conv2D(66, (2, 2), activation='relu'))\n",
        "model.add(MaxPooling2D(pool_size=(2, 2)))\n",
        "\n",
        "model.add(Flatten())\n",
        "model.add(BatchNormalization())\n",
        "model.add(Dense(128, activation='relu'))\n",
        "model.add(BatchNormalization())\n",
        "model.add(Dense(num_classes, activation='softmax'))\n",
        "\n",
        "model.compile(loss=keras.losses.categorical_crossentropy,\n",
        "              optimizer=keras.optimizers.Adadelta(),\n",
        "              metrics=['accuracy'])\n",
        "\n",
        "history = model.fit(x_train, y_train,\n",
        "          batch_size=batch_size,\n",
        "          epochs=epochs,\n",
        "          verbose=1,\n",
        "          validation_data=(x_test, y_test))\n",
        "score = model.evaluate(x_test, y_test, verbose=0)\n",
        "print('Test loss:', score[0])\n",
        "print('Test accuracy:', score[1])"
      ],
      "execution_count": 0,
      "outputs": [
        {
          "output_type": "stream",
          "text": [
            "Train on 60000 samples, validate on 10000 samples\n",
            "Epoch 1/12\n",
            "60000/60000 [==============================] - 35s 578us/step - loss: 0.1689 - acc: 0.9509 - val_loss: 0.1136 - val_acc: 0.9641\n",
            "Epoch 2/12\n",
            "60000/60000 [==============================] - 34s 563us/step - loss: 0.0549 - acc: 0.9830 - val_loss: 0.0489 - val_acc: 0.9847\n",
            "Epoch 3/12\n",
            "60000/60000 [==============================] - 34s 563us/step - loss: 0.0372 - acc: 0.9887 - val_loss: 0.0573 - val_acc: 0.9833\n",
            "Epoch 4/12\n",
            "60000/60000 [==============================] - 34s 564us/step - loss: 0.0285 - acc: 0.9911 - val_loss: 0.0525 - val_acc: 0.9846\n",
            "Epoch 5/12\n",
            "60000/60000 [==============================] - 34s 564us/step - loss: 0.0219 - acc: 0.9932 - val_loss: 0.0971 - val_acc: 0.9716\n",
            "Epoch 6/12\n",
            "60000/60000 [==============================] - 34s 564us/step - loss: 0.0180 - acc: 0.9948 - val_loss: 0.0396 - val_acc: 0.9883\n",
            "Epoch 7/12\n",
            "60000/60000 [==============================] - 34s 564us/step - loss: 0.0135 - acc: 0.9962 - val_loss: 0.0425 - val_acc: 0.9882\n",
            "Epoch 8/12\n",
            "60000/60000 [==============================] - 34s 567us/step - loss: 0.0112 - acc: 0.9968 - val_loss: 0.0532 - val_acc: 0.9860\n",
            "Epoch 9/12\n",
            "60000/60000 [==============================] - 34s 563us/step - loss: 0.0094 - acc: 0.9974 - val_loss: 0.0415 - val_acc: 0.9886\n",
            "Epoch 10/12\n",
            "60000/60000 [==============================] - 34s 564us/step - loss: 0.0077 - acc: 0.9980 - val_loss: 0.0377 - val_acc: 0.9895\n",
            "Epoch 11/12\n",
            "60000/60000 [==============================] - 34s 563us/step - loss: 0.0065 - acc: 0.9981 - val_loss: 0.0372 - val_acc: 0.9896\n",
            "Epoch 12/12\n",
            "60000/60000 [==============================] - 34s 563us/step - loss: 0.0052 - acc: 0.9986 - val_loss: 0.0540 - val_acc: 0.9858\n",
            "Test loss: 0.054049926586002404\n",
            "Test accuracy: 0.9858\n"
          ],
          "name": "stdout"
        }
      ]
    },
    {
      "cell_type": "code",
      "metadata": {
        "id": "UjTvI-nMrf4L",
        "colab_type": "code",
        "outputId": "cc506fbd-09bf-4c51-c374-b79cc4ca534f",
        "colab": {
          "base_uri": "https://localhost:8080/",
          "height": 283
        }
      },
      "source": [
        "fig,ax = plt.subplots(1,1)\n",
        "ax.set_xlabel('epoch') ; ax.set_ylabel('Categorical Crossentropy Loss')\n",
        "\n",
        "# list of epoch numbers\n",
        "x = list(range(1,epochs+1))\n",
        "\n",
        "# val_loss : validation loss\n",
        "# val_acc : validation accuracy\n",
        "\n",
        "# loss : training loss\n",
        "# acc : train accuracy\n",
        "\n",
        "vy = history.history['val_loss']\n",
        "ty = history.history['loss']\n",
        "plt_dynamic(x, vy, ty, ax)"
      ],
      "execution_count": 0,
      "outputs": [
        {
          "output_type": "display_data",
          "data": {
            "image/png": "[encoded data removed]",
            "text/plain": [
              "<Figure size 432x288 with 1 Axes>"
            ]
          },
          "metadata": {
            "tags": []
          }
        }
      ]
    },
    {
      "cell_type": "markdown",
      "metadata": {
        "id": "rcoF00n83E1O",
        "colab_type": "text"
      },
      "source": [
        "<h3>1.3 with kernal_size = (5,5), Dropout = 0.3, BN and MaxPooling</h3>"
      ]
    },
    {
      "cell_type": "code",
      "metadata": {
        "id": "tTCkeoEI4Ss9",
        "colab_type": "code",
        "outputId": "9501d68d-0a5a-43f4-872f-f4c583b24b35",
        "colab": {
          "base_uri": "https://localhost:8080/",
          "height": 892
        }
      },
      "source": [
        "model = Sequential()\n",
        "model.add(Conv2D(44, kernel_size=(5, 5),\n",
        "                 activation='relu',\n",
        "                 input_shape=input_shape))\n",
        "model.add(MaxPooling2D(pool_size=(2, 2)))\n",
        "\n",
        "model.add(Conv2D(89, (5, 5), activation='relu'))\n",
        "model.add(MaxPooling2D(pool_size=(2, 2)))\n",
        "\n",
        "model.add(Conv2D(165, (5, 5), activation='relu', padding='same'))\n",
        "model.add(MaxPooling2D(pool_size=(2, 2)))\n",
        "\n",
        "model.add(Flatten())\n",
        "model.add(Dense(128, activation='relu'))\n",
        "model.add(BatchNormalization())\n",
        "model.add(Dropout(0.3))\n",
        "\n",
        "model.add(Dense(97, activation='relu'))\n",
        "model.add(BatchNormalization())\n",
        "model.add(Dropout(0.3))\n",
        "\n",
        "model.add(Dense(num_classes, activation='softmax'))\n",
        "\n",
        "model.compile(loss=keras.losses.categorical_crossentropy,\n",
        "              optimizer=keras.optimizers.Adadelta(),\n",
        "              metrics=['accuracy'])\n",
        "\n",
        "history = model.fit(x_train, y_train,\n",
        "          batch_size=batch_size,\n",
        "          epochs=epochs,\n",
        "          verbose=1,\n",
        "          validation_data=(x_test, y_test))\n",
        "score = model.evaluate(x_test, y_test, verbose=0)\n",
        "print('Test loss:', score[0])\n",
        "print('Test accuracy:', score[1])"
      ],
      "execution_count": 0,
      "outputs": [
        {
          "output_type": "stream",
          "text": [
            "WARNING:tensorflow:From /usr/local/lib/python3.6/dist-packages/keras/backend/tensorflow_backend.py:66: The name tf.get_default_graph is deprecated. Please use tf.compat.v1.get_default_graph instead.\n",
            "\n",
            "WARNING:tensorflow:From /usr/local/lib/python3.6/dist-packages/keras/backend/tensorflow_backend.py:541: The name tf.placeholder is deprecated. Please use tf.compat.v1.placeholder instead.\n",
            "\n",
            "WARNING:tensorflow:From /usr/local/lib/python3.6/dist-packages/keras/backend/tensorflow_backend.py:4432: The name tf.random_uniform is deprecated. Please use tf.random.uniform instead.\n",
            "\n",
            "WARNING:tensorflow:From /usr/local/lib/python3.6/dist-packages/keras/backend/tensorflow_backend.py:4267: The name tf.nn.max_pool is deprecated. Please use tf.nn.max_pool2d instead.\n",
            "\n",
            "WARNING:tensorflow:From /usr/local/lib/python3.6/dist-packages/keras/backend/tensorflow_backend.py:148: The name tf.placeholder_with_default is deprecated. Please use tf.compat.v1.placeholder_with_default instead.\n",
            "\n",
            "WARNING:tensorflow:From /usr/local/lib/python3.6/dist-packages/keras/backend/tensorflow_backend.py:3733: calling dropout (from tensorflow.python.ops.nn_ops) with keep_prob is deprecated and will be removed in a future version.\n",
            "Instructions for updating:\n",
            "Please use `rate` instead of `keep_prob`. Rate should be set to `rate = 1 - keep_prob`.\n",
            "WARNING:tensorflow:From /usr/local/lib/python3.6/dist-packages/keras/optimizers.py:793: The name tf.train.Optimizer is deprecated. Please use tf.compat.v1.train.Optimizer instead.\n",
            "\n",
            "WARNING:tensorflow:From /usr/local/lib/python3.6/dist-packages/keras/backend/tensorflow_backend.py:3576: The name tf.log is deprecated. Please use tf.math.log instead.\n",
            "\n",
            "WARNING:tensorflow:From /usr/local/lib/python3.6/dist-packages/tensorflow/python/ops/math_grad.py:1250: add_dispatch_support.<locals>.wrapper (from tensorflow.python.ops.array_ops) is deprecated and will be removed in a future version.\n",
            "Instructions for updating:\n",
            "Use tf.where in 2.0, which has the same broadcast rule as np.where\n",
            "Train on 60000 samples, validate on 10000 samples\n",
            "Epoch 1/12\n",
            "60000/60000 [==============================] - 188s 3ms/step - loss: 0.7024 - acc: 0.7695 - val_loss: 4.6582 - val_acc: 0.3859\n",
            "Epoch 2/12\n",
            "60000/60000 [==============================] - 188s 3ms/step - loss: 0.3975 - acc: 0.8714 - val_loss: 4.8570 - val_acc: 0.3057\n",
            "Epoch 3/12\n",
            "60000/60000 [==============================] - 189s 3ms/step - loss: 0.2876 - acc: 0.9090 - val_loss: 0.3090 - val_acc: 0.9044\n",
            "Epoch 4/12\n",
            "60000/60000 [==============================] - 188s 3ms/step - loss: 0.2319 - acc: 0.9283 - val_loss: 1.1523 - val_acc: 0.7380\n",
            "Epoch 5/12\n",
            "60000/60000 [==============================] - 187s 3ms/step - loss: 0.2063 - acc: 0.9359 - val_loss: 0.9241 - val_acc: 0.7260\n",
            "Epoch 6/12\n",
            "60000/60000 [==============================] - 187s 3ms/step - loss: 0.2268 - acc: 0.9288 - val_loss: 0.8064 - val_acc: 0.7751\n",
            "Epoch 7/12\n",
            "60000/60000 [==============================] - 188s 3ms/step - loss: 0.1863 - acc: 0.9432 - val_loss: 0.5246 - val_acc: 0.8310\n",
            "Epoch 8/12\n",
            "60000/60000 [==============================] - 188s 3ms/step - loss: 0.1662 - acc: 0.9490 - val_loss: 0.3421 - val_acc: 0.9035\n",
            "Epoch 9/12\n",
            "60000/60000 [==============================] - 188s 3ms/step - loss: 0.1653 - acc: 0.9505 - val_loss: 0.2114 - val_acc: 0.9320\n",
            "Epoch 10/12\n",
            "60000/60000 [==============================] - 188s 3ms/step - loss: 0.1435 - acc: 0.9574 - val_loss: 0.3748 - val_acc: 0.8851\n",
            "Epoch 11/12\n",
            "60000/60000 [==============================] - 188s 3ms/step - loss: 0.1591 - acc: 0.9512 - val_loss: 0.5295 - val_acc: 0.8370\n",
            "Epoch 12/12\n",
            "60000/60000 [==============================] - 187s 3ms/step - loss: 0.1404 - acc: 0.9579 - val_loss: 0.3768 - val_acc: 0.8728\n",
            "Test loss: 0.376783286190033\n",
            "Test accuracy: 0.8728\n"
          ],
          "name": "stdout"
        }
      ]
    },
    {
      "cell_type": "code",
      "metadata": {
        "id": "F3s5yq4Hrphj",
        "colab_type": "code",
        "outputId": "95f88da0-6a10-4c21-cef2-7dc7434df406",
        "colab": {
          "base_uri": "https://localhost:8080/",
          "height": 283
        }
      },
      "source": [
        "fig,ax = plt.subplots(1,1)\n",
        "ax.set_xlabel('epoch') ; ax.set_ylabel('Categorical Crossentropy Loss')\n",
        "\n",
        "# list of epoch numbers\n",
        "x = list(range(1,epochs+1))\n",
        "\n",
        "# val_loss : validation loss\n",
        "# val_acc : validation accuracy\n",
        "\n",
        "# loss : training loss\n",
        "# acc : train accuracy\n",
        "\n",
        "vy = history.history['val_loss']\n",
        "ty = history.history['loss']\n",
        "plt_dynamic(x, vy, ty, ax)"
      ],
      "execution_count": 0,
      "outputs": [
        {
          "output_type": "display_data",
          "data": {
            "image/png": "[encoded data removed]",
            "text/plain": [
              "<Figure size 432x288 with 1 Axes>"
            ]
          },
          "metadata": {
            "tags": []
          }
        }
      ]
    },
    {
      "cell_type": "markdown",
      "metadata": {
        "id": "izjOpZCb3FA9",
        "colab_type": "text"
      },
      "source": [
        "<h2>MODEL2 : Five Convolutional Network with Adadelta as optimizer</h2>"
      ]
    },
    {
      "cell_type": "markdown",
      "metadata": {
        "colab_type": "text",
        "id": "CEUcS7k86jxz"
      },
      "source": [
        "<h3>2.1 with kernal_size = (3,3), Dropout = 0.25 and MaxPooling(pool_size =(3,3))"
      ]
    },
    {
      "cell_type": "code",
      "metadata": {
        "colab_type": "code",
        "id": "ZXeDpTXp6jx3",
        "outputId": "1e7badd7-67e8-4b01-ef7c-7f9b629ab3d0",
        "colab": {
          "base_uri": "https://localhost:8080/",
          "height": 508
        }
      },
      "source": [
        "model = Sequential()\n",
        "model.add(Conv2D(25, kernel_size=(3, 3), activation='relu',input_shape=input_shape))\n",
        "model.add(MaxPooling2D(pool_size=(2, 2)))\n",
        "\n",
        "model.add(Conv2D(55, (3, 3), activation='relu'))\n",
        "model.add(MaxPooling2D(pool_size=(2, 2)))\n",
        "\n",
        "model.add(Conv2D(78, (3, 3), activation='relu'))\n",
        "model.add(MaxPooling2D(pool_size=(2, 2)))\n",
        "\n",
        "model.add(Conv2D(96, (3, 3), activation='relu', padding='same'))\n",
        "model.add(MaxPooling2D(pool_size=(2, 2), padding='same'))\n",
        "\n",
        "model.add(Conv2D(108, (3, 3), activation='relu', padding='same'))\n",
        "model.add(MaxPooling2D(pool_size=(2, 2), padding='same'))\n",
        "\n",
        "model.add(Flatten())\n",
        "model.add(Dense(128, activation='relu'))\n",
        "model.add(Dropout(0.25))\n",
        "model.add(Dense(num_classes, activation='softmax'))\n",
        "\n",
        "model.compile(loss=keras.losses.categorical_crossentropy,\n",
        "              optimizer=keras.optimizers.Adadelta(),\n",
        "              metrics=['accuracy'])\n",
        "\n",
        "history = model.fit(x_train, y_train,\n",
        "          batch_size=batch_size,\n",
        "          epochs=epochs,\n",
        "          verbose=1,\n",
        "          validation_data=(x_test, y_test))\n",
        "score = model.evaluate(x_test, y_test, verbose=0)\n",
        "print('Test loss:', score[0])\n",
        "print('Test accuracy:', score[1])"
      ],
      "execution_count": 0,
      "outputs": [
        {
          "output_type": "stream",
          "text": [
            "Train on 60000 samples, validate on 10000 samples\n",
            "Epoch 1/12\n",
            "60000/60000 [==============================] - 50s 833us/step - loss: 12.4907 - acc: 0.1164 - val_loss: 14.5482 - val_acc: 0.0974\n",
            "Epoch 2/12\n",
            "60000/60000 [==============================] - 49s 816us/step - loss: 14.5415 - acc: 0.0977 - val_loss: 14.5482 - val_acc: 0.0974\n",
            "Epoch 3/12\n",
            "60000/60000 [==============================] - 49s 814us/step - loss: 14.5400 - acc: 0.0978 - val_loss: 14.5482 - val_acc: 0.0974\n",
            "Epoch 4/12\n",
            "60000/60000 [==============================] - 49s 820us/step - loss: 14.5445 - acc: 0.0975 - val_loss: 14.5482 - val_acc: 0.0974\n",
            "Epoch 5/12\n",
            "60000/60000 [==============================] - 49s 817us/step - loss: 14.5453 - acc: 0.0976 - val_loss: 14.5482 - val_acc: 0.0974\n",
            "Epoch 6/12\n",
            "60000/60000 [==============================] - 49s 818us/step - loss: 14.5436 - acc: 0.0977 - val_loss: 14.5482 - val_acc: 0.0974\n",
            "Epoch 7/12\n",
            "60000/60000 [==============================] - 49s 817us/step - loss: 14.5463 - acc: 0.0975 - val_loss: 14.5482 - val_acc: 0.0974\n",
            "Epoch 8/12\n",
            "60000/60000 [==============================] - 49s 817us/step - loss: 14.5463 - acc: 0.0975 - val_loss: 14.5482 - val_acc: 0.0974\n",
            "Epoch 9/12\n",
            "60000/60000 [==============================] - 49s 821us/step - loss: 14.5457 - acc: 0.0975 - val_loss: 14.5482 - val_acc: 0.0974\n",
            "Epoch 10/12\n",
            "60000/60000 [==============================] - 49s 815us/step - loss: 14.5459 - acc: 0.0975 - val_loss: 14.5482 - val_acc: 0.0974\n",
            "Epoch 11/12\n",
            "60000/60000 [==============================] - 49s 813us/step - loss: 14.5462 - acc: 0.0975 - val_loss: 14.5482 - val_acc: 0.0974\n",
            "Epoch 12/12\n",
            "60000/60000 [==============================] - 49s 815us/step - loss: 14.5476 - acc: 0.0974 - val_loss: 14.5482 - val_acc: 0.0974\n",
            "Test loss: 14.548192700195312\n",
            "Test accuracy: 0.0974\n"
          ],
          "name": "stdout"
        }
      ]
    },
    {
      "cell_type": "code",
      "metadata": {
        "id": "-D19ZCDjrsYG",
        "colab_type": "code",
        "outputId": "475b29f4-cfd5-4fcd-e144-55250b4f7fe1",
        "colab": {
          "base_uri": "https://localhost:8080/",
          "height": 283
        }
      },
      "source": [
        "fig,ax = plt.subplots(1,1)\n",
        "ax.set_xlabel('epoch') ; ax.set_ylabel('Categorical Crossentropy Loss')\n",
        "\n",
        "# list of epoch numbers\n",
        "x = list(range(1,epochs+1))\n",
        "\n",
        "# val_loss : validation loss\n",
        "# val_acc : validation accuracy\n",
        "\n",
        "# loss : training loss\n",
        "# acc : train accuracy\n",
        "\n",
        "vy = history.history['val_loss']\n",
        "ty = history.history['loss']\n",
        "plt_dynamic(x, vy, ty, ax)"
      ],
      "execution_count": 0,
      "outputs": [
        {
          "output_type": "display_data",
          "data": {
            "image/png": "[encoded data removed]",
            "text/plain": [
              "<Figure size 432x288 with 1 Axes>"
            ]
          },
          "metadata": {
            "tags": []
          }
        }
      ]
    },
    {
      "cell_type": "markdown",
      "metadata": {
        "colab_type": "text",
        "id": "xckUdays6jx9"
      },
      "source": [
        "<h3>2.2 with kernal_size = (2,2), BN and MaxPooling</h3>"
      ]
    },
    {
      "cell_type": "code",
      "metadata": {
        "colab_type": "code",
        "id": "MtsqE2X26jx_",
        "outputId": "ab0bea61-43e8-4c5f-9a74-3f922f5c4ed0",
        "colab": {
          "base_uri": "https://localhost:8080/",
          "height": 508
        }
      },
      "source": [
        "model = Sequential()\n",
        "model.add(Conv2D(29, kernel_size=(2, 2),\n",
        "                 activation='relu',\n",
        "                 input_shape=input_shape))\n",
        "model.add(MaxPooling2D(pool_size=(2, 2)))\n",
        "\n",
        "model.add(Conv2D(38, (2, 2), activation='relu', padding='same'))\n",
        "model.add(MaxPooling2D(pool_size=(2, 2), padding='same'))\n",
        "\n",
        "model.add(Conv2D(49, (2, 2), activation='relu', padding='same'))\n",
        "model.add(MaxPooling2D(pool_size=(2, 2), padding='same'))\n",
        "\n",
        "model.add(Conv2D(65, (2, 2), activation='relu', padding='same'))\n",
        "model.add(MaxPooling2D(pool_size=(2, 2), padding='same'))\n",
        "\n",
        "model.add(Conv2D(85, (2, 2), activation='relu', padding='same'))\n",
        "model.add(MaxPooling2D(pool_size=(2, 2), padding='same'))\n",
        "\n",
        "model.add(Flatten())\n",
        "model.add(Dense(133, activation='relu'))\n",
        "model.add(BatchNormalization())\n",
        "\n",
        "model.add(Dense(95, activation='relu'))\n",
        "model.add(BatchNormalization())\n",
        "\n",
        "model.add(Dense(76, activation='relu'))\n",
        "model.add(BatchNormalization())\n",
        "\n",
        "model.add(Dense(num_classes, activation='softmax'))\n",
        "\n",
        "model.compile(loss=keras.losses.categorical_crossentropy,\n",
        "              optimizer=keras.optimizers.Adadelta(),\n",
        "              metrics=['accuracy'])\n",
        "\n",
        "history = model.fit(x_train, y_train,\n",
        "          batch_size=batch_size,\n",
        "          epochs=epochs,\n",
        "          verbose=1,\n",
        "          validation_data=(x_test, y_test))\n",
        "score = model.evaluate(x_test, y_test, verbose=0)\n",
        "print('Test loss:', score[0])\n",
        "print('Test accuracy:', score[1])"
      ],
      "execution_count": 0,
      "outputs": [
        {
          "output_type": "stream",
          "text": [
            "Train on 60000 samples, validate on 10000 samples\n",
            "Epoch 1/12\n",
            "60000/60000 [==============================] - 47s 782us/step - loss: 0.1992 - acc: 0.9398 - val_loss: 0.3477 - val_acc: 0.8866\n",
            "Epoch 2/12\n",
            "60000/60000 [==============================] - 45s 751us/step - loss: 0.0638 - acc: 0.9800 - val_loss: 1.9318 - val_acc: 0.5085\n",
            "Epoch 3/12\n",
            "60000/60000 [==============================] - 46s 759us/step - loss: 0.0454 - acc: 0.9859 - val_loss: 0.2556 - val_acc: 0.9166\n",
            "Epoch 4/12\n",
            "60000/60000 [==============================] - 46s 759us/step - loss: 0.0361 - acc: 0.9890 - val_loss: 0.1088 - val_acc: 0.9672\n",
            "Epoch 5/12\n",
            "60000/60000 [==============================] - 45s 755us/step - loss: 0.0286 - acc: 0.9910 - val_loss: 0.3016 - val_acc: 0.9196\n",
            "Epoch 6/12\n",
            "60000/60000 [==============================] - 45s 754us/step - loss: 0.0236 - acc: 0.9924 - val_loss: 0.0625 - val_acc: 0.9812\n",
            "Epoch 7/12\n",
            "60000/60000 [==============================] - 45s 754us/step - loss: 0.0226 - acc: 0.9926 - val_loss: 0.0944 - val_acc: 0.9727\n",
            "Epoch 8/12\n",
            "60000/60000 [==============================] - 45s 751us/step - loss: 0.0187 - acc: 0.9940 - val_loss: 0.1087 - val_acc: 0.9664\n",
            "Epoch 9/12\n",
            "60000/60000 [==============================] - 45s 757us/step - loss: 0.0163 - acc: 0.9948 - val_loss: 0.0717 - val_acc: 0.9794\n",
            "Epoch 10/12\n",
            "60000/60000 [==============================] - 46s 762us/step - loss: 0.0144 - acc: 0.9950 - val_loss: 0.1359 - val_acc: 0.9585\n",
            "Epoch 11/12\n",
            "60000/60000 [==============================] - 46s 761us/step - loss: 0.0131 - acc: 0.9957 - val_loss: 0.1143 - val_acc: 0.9649\n",
            "Epoch 12/12\n",
            "60000/60000 [==============================] - 46s 759us/step - loss: 0.0116 - acc: 0.9960 - val_loss: 0.0472 - val_acc: 0.9870\n",
            "Test loss: 0.04721413791068335\n",
            "Test accuracy: 0.987\n"
          ],
          "name": "stdout"
        }
      ]
    },
    {
      "cell_type": "code",
      "metadata": {
        "id": "MaD3sg_mruaY",
        "colab_type": "code",
        "outputId": "da61a16e-ca25-484c-f379-705e36b15d6c",
        "colab": {
          "base_uri": "https://localhost:8080/",
          "height": 283
        }
      },
      "source": [
        "fig,ax = plt.subplots(1,1)\n",
        "ax.set_xlabel('epoch') ; ax.set_ylabel('Categorical Crossentropy Loss')\n",
        "\n",
        "# list of epoch numbers\n",
        "x = list(range(1,epochs+1))\n",
        "\n",
        "# val_loss : validation loss\n",
        "# val_acc : validation accuracy\n",
        "\n",
        "# loss : training loss\n",
        "# acc : train accuracy\n",
        "\n",
        "vy = history.history['val_loss']\n",
        "ty = history.history['loss']\n",
        "plt_dynamic(x, vy, ty, ax)"
      ],
      "execution_count": 0,
      "outputs": [
        {
          "output_type": "display_data",
          "data": {
            "image/png": "[encoded data removed]",
            "text/plain": [
              "<Figure size 432x288 with 1 Axes>"
            ]
          },
          "metadata": {
            "tags": []
          }
        }
      ]
    },
    {
      "cell_type": "markdown",
      "metadata": {
        "colab_type": "text",
        "id": "82-lBXJC6jyF"
      },
      "source": [
        "<h3>2.3 with kernal_size = (5,5), Dropout = 0.3, BN and MaxPooling</h3>"
      ]
    },
    {
      "cell_type": "code",
      "metadata": {
        "colab_type": "code",
        "id": "72OzEkRs6jyG",
        "outputId": "639e4da4-ede1-432e-859c-b61fad967a95",
        "colab": {
          "base_uri": "https://localhost:8080/",
          "height": 508
        }
      },
      "source": [
        "model = Sequential()\n",
        "model.add(Conv2D(22, kernel_size=(5, 5),\n",
        "                 activation='relu',\n",
        "                 input_shape=input_shape))\n",
        "model.add(MaxPooling2D(pool_size=(2, 2)))\n",
        "\n",
        "model.add(Conv2D(43, (5, 5), activation='relu', padding='same'))\n",
        "model.add(MaxPooling2D(pool_size=(2, 2), padding='same'))\n",
        "\n",
        "model.add(Conv2D(78, (5, 5), activation='relu', padding='same'))\n",
        "model.add(MaxPooling2D(pool_size=(2, 2), padding='same'))\n",
        "\n",
        "model.add(Conv2D(93, (5, 5), activation='relu', padding='same'))\n",
        "model.add(MaxPooling2D(pool_size=(2, 2), padding='same'))\n",
        "\n",
        "model.add(Conv2D(117, (5, 5), activation='relu', padding='same'))\n",
        "model.add(MaxPooling2D(pool_size=(2, 2), padding='same'))\n",
        "\n",
        "model.add(Flatten())\n",
        "model.add(Dropout(0.3))\n",
        "model.add(Dense(86, activation='relu'))\n",
        "model.add(Dropout(0.3))\n",
        "model.add(Dense(65, activation='relu'))\n",
        "model.add(Dropout(0.3))\n",
        "model.add(Dense(45, activation='relu'))\n",
        "model.add(Dropout(0.3))\n",
        "model.add(Dense(num_classes, activation='softmax'))\n",
        "\n",
        "model.compile(loss=keras.losses.categorical_crossentropy,\n",
        "              optimizer=keras.optimizers.Adadelta(),\n",
        "              metrics=['accuracy'])\n",
        "\n",
        "history = model.fit(x_train, y_train,\n",
        "          batch_size=batch_size,\n",
        "          epochs=epochs,\n",
        "          verbose=1,\n",
        "          validation_data=(x_test, y_test))\n",
        "score = model.evaluate(x_test, y_test, verbose=0)\n",
        "print('Test loss:', score[0])\n",
        "print('Test accuracy:', score[1])"
      ],
      "execution_count": 0,
      "outputs": [
        {
          "output_type": "stream",
          "text": [
            "Train on 60000 samples, validate on 10000 samples\n",
            "Epoch 1/12\n",
            "60000/60000 [==============================] - 178s 3ms/step - loss: 14.0103 - acc: 0.1022 - val_loss: 14.5353 - val_acc: 0.0982\n",
            "Epoch 2/12\n",
            "60000/60000 [==============================] - 177s 3ms/step - loss: 14.5056 - acc: 0.1000 - val_loss: 14.5353 - val_acc: 0.0982\n",
            "Epoch 3/12\n",
            "60000/60000 [==============================] - 177s 3ms/step - loss: 14.4976 - acc: 0.1005 - val_loss: 14.5353 - val_acc: 0.0982\n",
            "Epoch 4/12\n",
            "60000/60000 [==============================] - 177s 3ms/step - loss: 14.5168 - acc: 0.0993 - val_loss: 14.5353 - val_acc: 0.0982\n",
            "Epoch 5/12\n",
            "60000/60000 [==============================] - 176s 3ms/step - loss: 14.5251 - acc: 0.0988 - val_loss: 14.5353 - val_acc: 0.0982\n",
            "Epoch 6/12\n",
            "60000/60000 [==============================] - 176s 3ms/step - loss: 14.5358 - acc: 0.0982 - val_loss: 14.5353 - val_acc: 0.0982\n",
            "Epoch 7/12\n",
            "60000/60000 [==============================] - 177s 3ms/step - loss: 14.5408 - acc: 0.0979 - val_loss: 14.5353 - val_acc: 0.0982\n",
            "Epoch 8/12\n",
            "60000/60000 [==============================] - 176s 3ms/step - loss: 14.5186 - acc: 0.0992 - val_loss: 14.5353 - val_acc: 0.0982\n",
            "Epoch 9/12\n",
            "60000/60000 [==============================] - 176s 3ms/step - loss: 14.5149 - acc: 0.0995 - val_loss: 14.5353 - val_acc: 0.0982\n",
            "Epoch 10/12\n",
            "60000/60000 [==============================] - 176s 3ms/step - loss: 14.4942 - acc: 0.1007 - val_loss: 14.5353 - val_acc: 0.0982\n",
            "Epoch 11/12\n",
            "60000/60000 [==============================] - 175s 3ms/step - loss: 14.5326 - acc: 0.0984 - val_loss: 14.5353 - val_acc: 0.0982\n",
            "Epoch 12/12\n",
            "60000/60000 [==============================] - 175s 3ms/step - loss: 14.5049 - acc: 0.1001 - val_loss: 14.5353 - val_acc: 0.0982\n",
            "Test loss: 14.535298265075683\n",
            "Test accuracy: 0.0982\n"
          ],
          "name": "stdout"
        }
      ]
    },
    {
      "cell_type": "code",
      "metadata": {
        "id": "BjWJEgG7rwcv",
        "colab_type": "code",
        "outputId": "23686a3e-8a4e-4410-ffdc-4dcc20379629",
        "colab": {
          "base_uri": "https://localhost:8080/",
          "height": 283
        }
      },
      "source": [
        "fig,ax = plt.subplots(1,1)\n",
        "ax.set_xlabel('epoch') ; ax.set_ylabel('Categorical Crossentropy Loss')\n",
        "\n",
        "# list of epoch numbers\n",
        "x = list(range(1,epochs+1))\n",
        "\n",
        "# val_loss : validation loss\n",
        "# val_acc : validation accuracy\n",
        "\n",
        "# loss : training loss\n",
        "# acc : train accuracy\n",
        "\n",
        "vy = history.history['val_loss']\n",
        "ty = history.history['loss']\n",
        "plt_dynamic(x, vy, ty, ax)"
      ],
      "execution_count": 0,
      "outputs": [
        {
          "output_type": "display_data",
          "data": {
            "image/png": "[encoded data removed]",
            "text/plain": [
              "<Figure size 432x288 with 1 Axes>"
            ]
          },
          "metadata": {
            "tags": []
          }
        }
      ]
    },
    {
      "cell_type": "markdown",
      "metadata": {
        "colab_type": "text",
        "id": "Tn3eD9rD6jyL"
      },
      "source": [
        "<h2>MODEL3 : Seven Convolutional Network with Adadelta as optimizer</h2>"
      ]
    },
    {
      "cell_type": "markdown",
      "metadata": {
        "colab_type": "text",
        "id": "ZykNOjrLCTnE"
      },
      "source": [
        "<h3>3.1 with kernal_size = (3,3), Dropout = 0.25 and MaxPooling(pool_size =(3,3))"
      ]
    },
    {
      "cell_type": "code",
      "metadata": {
        "colab_type": "code",
        "id": "h_HcoTdtCTnF",
        "outputId": "136427d5-f6ea-466e-806f-976eb0b0174c",
        "colab": {
          "base_uri": "https://localhost:8080/",
          "height": 508
        }
      },
      "source": [
        "model = Sequential()\n",
        "model.add(Conv2D(32, kernel_size=(3, 3),\n",
        "                 activation='relu',\n",
        "                 input_shape=input_shape))\n",
        "model.add(MaxPooling2D(pool_size=(3, 3)))\n",
        "\n",
        "model.add(Conv2D(45, (3, 3), activation='relu'))\n",
        "model.add(MaxPooling2D(pool_size=(3, 3)))\n",
        "\n",
        "model.add(Conv2D(60, (3, 3), activation='relu', padding='same'))\n",
        "model.add(MaxPooling2D(pool_size=(3, 3), padding='same'))\n",
        "\n",
        "model.add(Conv2D(78, (3, 3), activation='relu', padding='same'))\n",
        "model.add(MaxPooling2D(pool_size=(3, 3), padding='same'))\n",
        "\n",
        "model.add(Conv2D(95, (3, 3), activation='relu', padding='same'))\n",
        "model.add(MaxPooling2D(pool_size=(3, 3), padding='same'))\n",
        "\n",
        "model.add(Conv2D(112, (3, 3), activation='relu', padding='same'))\n",
        "model.add(MaxPooling2D(pool_size=(3, 3), padding='same'))\n",
        "\n",
        "model.add(Conv2D(145, (3, 3), activation='relu', padding='same'))\n",
        "model.add(MaxPooling2D(pool_size=(3, 3), padding='same'))\n",
        "\n",
        "model.add(Flatten())\n",
        "model.add(Dense(128, activation='relu'))\n",
        "model.add(Dropout(0.25))\n",
        "model.add(Dense(num_classes, activation='softmax'))\n",
        "\n",
        "model.compile(loss=keras.losses.categorical_crossentropy,\n",
        "              optimizer=keras.optimizers.Adadelta(),\n",
        "              metrics=['accuracy'])\n",
        "\n",
        "history = model.fit(x_train, y_train,\n",
        "          batch_size=batch_size,\n",
        "          epochs=epochs,\n",
        "          verbose=1,\n",
        "          validation_data=(x_test, y_test))\n",
        "score = model.evaluate(x_test, y_test, verbose=0)\n",
        "print('Test loss:', score[0])\n",
        "print('Test accuracy:', score[1])"
      ],
      "execution_count": 0,
      "outputs": [
        {
          "output_type": "stream",
          "text": [
            "Train on 60000 samples, validate on 10000 samples\n",
            "Epoch 1/12\n",
            "60000/60000 [==============================] - 53s 882us/step - loss: 2.3015 - acc: 0.1119 - val_loss: 2.3008 - val_acc: 0.1135\n",
            "Epoch 2/12\n",
            "60000/60000 [==============================] - 51s 851us/step - loss: 2.2902 - acc: 0.1231 - val_loss: 2.3012 - val_acc: 0.1135\n",
            "Epoch 3/12\n",
            "60000/60000 [==============================] - 51s 848us/step - loss: 2.3013 - acc: 0.1124 - val_loss: 2.3010 - val_acc: 0.1135\n",
            "Epoch 4/12\n",
            "60000/60000 [==============================] - 51s 847us/step - loss: 2.3013 - acc: 0.1124 - val_loss: 2.3010 - val_acc: 0.1135\n",
            "Epoch 5/12\n",
            "60000/60000 [==============================] - 51s 847us/step - loss: 2.3013 - acc: 0.1124 - val_loss: 2.3010 - val_acc: 0.1135\n",
            "Epoch 6/12\n",
            "60000/60000 [==============================] - 51s 850us/step - loss: 2.3013 - acc: 0.1124 - val_loss: 2.3010 - val_acc: 0.1135\n",
            "Epoch 7/12\n",
            "60000/60000 [==============================] - 51s 846us/step - loss: 2.3013 - acc: 0.1124 - val_loss: 2.3011 - val_acc: 0.1135\n",
            "Epoch 8/12\n",
            "60000/60000 [==============================] - 51s 847us/step - loss: 2.3013 - acc: 0.1124 - val_loss: 2.3010 - val_acc: 0.1135\n",
            "Epoch 9/12\n",
            "60000/60000 [==============================] - 51s 849us/step - loss: 2.3013 - acc: 0.1124 - val_loss: 2.3011 - val_acc: 0.1135\n",
            "Epoch 10/12\n",
            "60000/60000 [==============================] - 51s 850us/step - loss: 2.3013 - acc: 0.1124 - val_loss: 2.3011 - val_acc: 0.1135\n",
            "Epoch 11/12\n",
            "60000/60000 [==============================] - 51s 848us/step - loss: 2.3013 - acc: 0.1124 - val_loss: 2.3011 - val_acc: 0.1135\n",
            "Epoch 12/12\n",
            "60000/60000 [==============================] - 51s 853us/step - loss: 2.3013 - acc: 0.1124 - val_loss: 2.3010 - val_acc: 0.1135\n",
            "Test loss: 2.3010340282440187\n",
            "Test accuracy: 0.1135\n"
          ],
          "name": "stdout"
        }
      ]
    },
    {
      "cell_type": "code",
      "metadata": {
        "id": "pta-ou96v2Jo",
        "colab_type": "code",
        "outputId": "78288598-8fd7-40c3-bf7a-91a27953c6e0",
        "colab": {
          "base_uri": "https://localhost:8080/",
          "height": 283
        }
      },
      "source": [
        "fig,ax = plt.subplots(1,1)\n",
        "ax.set_xlabel('epoch') ; ax.set_ylabel('Categorical Crossentropy Loss')\n",
        "\n",
        "# list of epoch numbers\n",
        "x = list(range(1,epochs+1))\n",
        "\n",
        "# val_loss : validation loss\n",
        "# val_acc : validation accuracy\n",
        "\n",
        "# loss : training loss\n",
        "# acc : train accuracy\n",
        "\n",
        "vy = history.history['val_loss']\n",
        "ty = history.history['loss']\n",
        "plt_dynamic(x, vy, ty, ax)"
      ],
      "execution_count": 0,
      "outputs": [
        {
          "output_type": "display_data",
          "data": {
            "image/png": "[encoded data removed]",
            "text/plain": [
              "<Figure size 432x288 with 1 Axes>"
            ]
          },
          "metadata": {
            "tags": []
          }
        }
      ]
    },
    {
      "cell_type": "markdown",
      "metadata": {
        "colab_type": "text",
        "id": "Z6IqybG2CTnK"
      },
      "source": [
        "<h3>3.2 with kernal_size = (2,2), BN and MaxPooling</h3>"
      ]
    },
    {
      "cell_type": "code",
      "metadata": {
        "colab_type": "code",
        "id": "dKw5ng_DCTnL",
        "outputId": "8faa0509-95ac-444e-b678-cec54a7f7795",
        "colab": {
          "base_uri": "https://localhost:8080/",
          "height": 508
        }
      },
      "source": [
        "model = Sequential()\n",
        "model.add(Conv2D(22, kernel_size=(2, 2),\n",
        "                 activation='relu',\n",
        "                 input_shape=input_shape))\n",
        "model.add(MaxPooling2D(pool_size=(2, 2)))\n",
        "\n",
        "model.add(Conv2D(45, (2, 2), activation='relu'))\n",
        "model.add(MaxPooling2D(pool_size=(2, 2)))\n",
        "\n",
        "model.add(Conv2D(65, (2, 2), activation='relu', padding='same'))\n",
        "model.add(MaxPooling2D(pool_size=(2, 2), padding='same'))\n",
        "\n",
        "model.add(Conv2D(97, (2, 2), activation='relu', padding='same'))\n",
        "model.add(MaxPooling2D(pool_size=(2, 2), padding='same'))\n",
        "\n",
        "model.add(Conv2D(114, (2, 2), activation='relu', padding='same'))\n",
        "model.add(MaxPooling2D(pool_size=(2, 2), padding='same'))\n",
        "\n",
        "model.add(Conv2D(126, (2, 2), activation='relu', padding='same'))\n",
        "model.add(MaxPooling2D(pool_size=(2, 2), padding='same'))\n",
        "\n",
        "model.add(Conv2D(143, (2, 2), activation='relu', padding='same'))\n",
        "model.add(MaxPooling2D(pool_size=(2, 2), padding='same'))\n",
        "\n",
        "model.add(Flatten())\n",
        "model.add(Dense(97, activation='relu'))\n",
        "model.add(BatchNormalization())\n",
        "\n",
        "model.add(Dense(65, activation='relu'))\n",
        "model.add(BatchNormalization())\n",
        "\n",
        "model.add(Dense(num_classes, activation='softmax'))\n",
        "\n",
        "model.compile(loss=keras.losses.categorical_crossentropy,\n",
        "              optimizer=keras.optimizers.Adadelta(),\n",
        "              metrics=['accuracy'])\n",
        "\n",
        "history = model.fit(x_train, y_train,\n",
        "          batch_size=batch_size,\n",
        "          epochs=epochs,\n",
        "          verbose=1,\n",
        "          validation_data=(x_test, y_test))\n",
        "score = model.evaluate(x_test, y_test, verbose=0)\n",
        "print('Test loss:', score[0])\n",
        "print('Test accuracy:', score[1])"
      ],
      "execution_count": 0,
      "outputs": [
        {
          "output_type": "stream",
          "text": [
            "Train on 60000 samples, validate on 10000 samples\n",
            "Epoch 1/12\n",
            "60000/60000 [==============================] - 47s 777us/step - loss: 0.1836 - acc: 0.9442 - val_loss: 9.1206 - val_acc: 0.2095\n",
            "Epoch 2/12\n",
            "60000/60000 [==============================] - 45s 743us/step - loss: 0.0667 - acc: 0.9796 - val_loss: 2.3494 - val_acc: 0.5170\n",
            "Epoch 3/12\n",
            "60000/60000 [==============================] - 45s 746us/step - loss: 0.0519 - acc: 0.9842 - val_loss: 8.5230 - val_acc: 0.3702\n",
            "Epoch 4/12\n",
            "60000/60000 [==============================] - 45s 758us/step - loss: 0.0492 - acc: 0.9849 - val_loss: 6.4195 - val_acc: 0.3570\n",
            "Epoch 5/12\n",
            "60000/60000 [==============================] - 45s 757us/step - loss: 0.0375 - acc: 0.9884 - val_loss: 12.8700 - val_acc: 0.1010\n",
            "Epoch 6/12\n",
            "60000/60000 [==============================] - 45s 757us/step - loss: 0.0318 - acc: 0.9898 - val_loss: 2.4923 - val_acc: 0.4857\n",
            "Epoch 7/12\n",
            "60000/60000 [==============================] - 46s 759us/step - loss: 0.0285 - acc: 0.9911 - val_loss: 4.3455 - val_acc: 0.4090\n",
            "Epoch 8/12\n",
            "60000/60000 [==============================] - 45s 757us/step - loss: 0.0260 - acc: 0.9916 - val_loss: 8.7995 - val_acc: 0.2321\n",
            "Epoch 9/12\n",
            "60000/60000 [==============================] - 45s 758us/step - loss: 0.0222 - acc: 0.9929 - val_loss: 8.4333 - val_acc: 0.2476\n",
            "Epoch 10/12\n",
            "60000/60000 [==============================] - 45s 745us/step - loss: 0.0219 - acc: 0.9927 - val_loss: 8.0134 - val_acc: 0.2030\n",
            "Epoch 11/12\n",
            "60000/60000 [==============================] - 45s 750us/step - loss: 0.0179 - acc: 0.9942 - val_loss: 8.0351 - val_acc: 0.4408\n",
            "Epoch 12/12\n",
            "60000/60000 [==============================] - 45s 752us/step - loss: 0.0173 - acc: 0.9944 - val_loss: 4.9741 - val_acc: 0.5066\n",
            "Test loss: 4.974070930480957\n",
            "Test accuracy: 0.5066\n"
          ],
          "name": "stdout"
        }
      ]
    },
    {
      "cell_type": "code",
      "metadata": {
        "id": "lATqkaoKv5oj",
        "colab_type": "code",
        "outputId": "ccaa648d-9af6-40b7-e932-5f9c7b6e3fe9",
        "colab": {
          "base_uri": "https://localhost:8080/",
          "height": 283
        }
      },
      "source": [
        "fig,ax = plt.subplots(1,1)\n",
        "ax.set_xlabel('epoch') ; ax.set_ylabel('Categorical Crossentropy Loss')\n",
        "\n",
        "# list of epoch numbers\n",
        "x = list(range(1,epochs+1))\n",
        "\n",
        "# val_loss : validation loss\n",
        "# val_acc : validation accuracy\n",
        "\n",
        "# loss : training loss\n",
        "# acc : train accuracy\n",
        "\n",
        "vy = history.history['val_loss']\n",
        "ty = history.history['loss']\n",
        "plt_dynamic(x, vy, ty, ax)"
      ],
      "execution_count": 0,
      "outputs": [
        {
          "output_type": "display_data",
          "data": {
            "image/png": "[encoded data removed]",
            "text/plain": [
              "<Figure size 432x288 with 1 Axes>"
            ]
          },
          "metadata": {
            "tags": []
          }
        }
      ]
    },
    {
      "cell_type": "markdown",
      "metadata": {
        "colab_type": "text",
        "id": "_Roxlj_2CTnQ"
      },
      "source": [
        "<h3>3.3 with kernal_size = (5,5), Dropout = 0.3, BN and MaxPooling</h3>"
      ]
    },
    {
      "cell_type": "code",
      "metadata": {
        "colab_type": "code",
        "id": "btYutq_rCTnR",
        "outputId": "430e02bc-3e6b-46a3-884d-49b0834136c8",
        "colab": {
          "base_uri": "https://localhost:8080/",
          "height": 508
        }
      },
      "source": [
        "model = Sequential()\n",
        "model.add(Conv2D(12, kernel_size=(5, 5),\n",
        "                 activation='relu',\n",
        "                 input_shape=input_shape))\n",
        "model.add(MaxPooling2D(pool_size=(2, 2)))\n",
        "\n",
        "model.add(Conv2D(43, (5, 5), activation='relu'))\n",
        "model.add(MaxPooling2D(pool_size=(2, 2)))\n",
        "\n",
        "model.add(Conv2D(60, (5, 5), activation='relu', padding='same'))\n",
        "model.add(MaxPooling2D(pool_size=(2, 2), padding='same'))\n",
        "\n",
        "model.add(Conv2D(85, (5, 5), activation='relu', padding='same'))\n",
        "model.add(MaxPooling2D(pool_size=(2, 2), padding='same'))\n",
        "\n",
        "model.add(Conv2D(112, (5, 5), activation='relu', padding='same'))\n",
        "model.add(MaxPooling2D(pool_size=(2, 2), padding='same'))\n",
        "\n",
        "model.add(Conv2D(143, (5, 5), activation='relu', padding='same'))\n",
        "model.add(MaxPooling2D(pool_size=(2, 2), padding='same'))\n",
        "\n",
        "model.add(Conv2D(157, (5, 5), activation='relu', padding='same'))\n",
        "model.add(MaxPooling2D(pool_size=(2, 2), padding='same'))\n",
        "\n",
        "model.add(Flatten())\n",
        "model.add(Dense(98, activation='relu'))\n",
        "model.add(Dropout(0.3))\n",
        "model.add(BatchNormalization())\n",
        "\n",
        "model.add(Dense(56, activation='relu'))\n",
        "model.add(BatchNormalization())\n",
        "model.add(Dropout(0.3))\n",
        "\n",
        "\n",
        "model.add(Dense(num_classes, activation='softmax'))\n",
        "\n",
        "model.compile(loss=keras.losses.categorical_crossentropy,\n",
        "              optimizer=keras.optimizers.Adadelta(),\n",
        "              metrics=['accuracy'])\n",
        "\n",
        "history = model.fit(x_train, y_train,\n",
        "          batch_size=batch_size,\n",
        "          epochs=epochs,\n",
        "          verbose=1,\n",
        "          validation_data=(x_test, y_test))\n",
        "score = model.evaluate(x_test, y_test, verbose=0)\n",
        "print('Test loss:', score[0])\n",
        "print('Test accuracy:', score[1])"
      ],
      "execution_count": 0,
      "outputs": [
        {
          "output_type": "stream",
          "text": [
            "Train on 60000 samples, validate on 10000 samples\n",
            "Epoch 1/12\n",
            "60000/60000 [==============================] - 214s 4ms/step - loss: 2.2220 - acc: 0.2064 - val_loss: 6.6590 - val_acc: 0.1135\n",
            "Epoch 2/12\n",
            "60000/60000 [==============================] - 212s 4ms/step - loss: 1.3812 - acc: 0.4362 - val_loss: 1.4635 - val_acc: 0.3390\n",
            "Epoch 3/12\n",
            "60000/60000 [==============================] - 211s 4ms/step - loss: 1.1214 - acc: 0.5511 - val_loss: 10.6865 - val_acc: 0.1010\n",
            "Epoch 4/12\n",
            "60000/60000 [==============================] - 211s 4ms/step - loss: 1.1125 - acc: 0.5517 - val_loss: 0.8543 - val_acc: 0.7123\n",
            "Epoch 5/12\n",
            "60000/60000 [==============================] - 211s 4ms/step - loss: 1.2372 - acc: 0.5118 - val_loss: 5.7753 - val_acc: 0.1164\n",
            "Epoch 6/12\n",
            "60000/60000 [==============================] - 212s 4ms/step - loss: 1.1486 - acc: 0.5430 - val_loss: 3.4401 - val_acc: 0.1302\n",
            "Epoch 7/12\n",
            "60000/60000 [==============================] - 212s 4ms/step - loss: 1.0421 - acc: 0.5859 - val_loss: 2.2447 - val_acc: 0.2163\n",
            "Epoch 8/12\n",
            "60000/60000 [==============================] - 212s 4ms/step - loss: 0.9904 - acc: 0.6094 - val_loss: 0.9847 - val_acc: 0.5665\n",
            "Epoch 9/12\n",
            "60000/60000 [==============================] - 211s 4ms/step - loss: 0.9875 - acc: 0.6078 - val_loss: 3.0872 - val_acc: 0.3077\n",
            "Epoch 10/12\n",
            "60000/60000 [==============================] - 212s 4ms/step - loss: 0.9539 - acc: 0.6268 - val_loss: 1.1809 - val_acc: 0.3865\n",
            "Epoch 11/12\n",
            "60000/60000 [==============================] - 211s 4ms/step - loss: 0.9457 - acc: 0.6278 - val_loss: 0.8144 - val_acc: 0.7113\n",
            "Epoch 12/12\n",
            "60000/60000 [==============================] - 211s 4ms/step - loss: 0.9212 - acc: 0.6410 - val_loss: 0.7736 - val_acc: 0.7404\n",
            "Test loss: 0.7736397917747497\n",
            "Test accuracy: 0.7404\n"
          ],
          "name": "stdout"
        }
      ]
    },
    {
      "cell_type": "code",
      "metadata": {
        "id": "BSL-UvoQv8eN",
        "colab_type": "code",
        "outputId": "5219e96c-8a4c-4e86-b810-92c50c4a6afc",
        "colab": {
          "base_uri": "https://localhost:8080/",
          "height": 283
        }
      },
      "source": [
        "fig,ax = plt.subplots(1,1)\n",
        "ax.set_xlabel('epoch') ; ax.set_ylabel('Categorical Crossentropy Loss')\n",
        "\n",
        "# list of epoch numbers\n",
        "x = list(range(1,epochs+1))\n",
        "\n",
        "# val_loss : validation loss\n",
        "# val_acc : validation accuracy\n",
        "\n",
        "# loss : training loss\n",
        "# acc : train accuracy\n",
        "\n",
        "vy = history.history['val_loss']\n",
        "ty = history.history['loss']\n",
        "plt_dynamic(x, vy, ty, ax)"
      ],
      "execution_count": 0,
      "outputs": [
        {
          "output_type": "display_data",
          "data": {
            "image/png": "[encoded data removed]",
            "text/plain": [
              "<Figure size 432x288 with 1 Axes>"
            ]
          },
          "metadata": {
            "tags": []
          }
        }
      ]
    },
    {
      "cell_type": "code",
      "metadata": {
        "id": "EfrcNUU9gv1S",
        "colab_type": "code",
        "outputId": "54e1827a-32c4-4dc0-f657-4f864a161dfb",
        "colab": {
          "base_uri": "https://localhost:8080/",
          "height": 254
        }
      },
      "source": [
        "#Activation function is relu in each layers\n",
        "#Adadelta optimizers is used in each case\n",
        "#MaxPooling is used in each case of cnn_layers of pool_size=(2, 2)\n",
        "\n",
        "from prettytable import PrettyTable\n",
        "    \n",
        "x = PrettyTable()\n",
        "\n",
        "x.field_names = [\"No. of CNN_Layers\",\"kernal_size\",\"Batch Normalisations\",\"Dropout\",\"No. of hidden layers\", \"Test loss\", \"Test Accuracy\"]\n",
        "\n",
        "x.add_row([3, (3,3), \"No\", 0.5, 1, 0.024, 0.99])\n",
        "x.add_row([3, (2,2), \"Yes\", \"No dropout\", 1, 0.054, 0.98])\n",
        "x.add_row([3, (5,5), \"Yes\", 0.3, 2, 0.376, 0.87])\n",
        "x.add_row([5, (3,3), \"No\", 0.25, 1, 14.548, 0.09])\n",
        "x.add_row([5, (2,2), \"Yes\", \"No droput\", 3, 0.047, 0.98])\n",
        "x.add_row([5, (5,5), \"Yes\", 0.3, 3, 14.53, 0.09])\n",
        "x.add_row([7, (3,3), \"No\", 0.25, 1, 2.30, 0.11])\n",
        "x.add_row([7, (2,2), \"Yes\", \"No dropout\", 2, 4.974, 0.50])\n",
        "x.add_row([7, (5,5), \"Yes\", 0.3, 2, 0.773, 0.74])\n",
        "print(x)"
      ],
      "execution_count": 3,
      "outputs": [
        {
          "output_type": "stream",
          "text": [
            "+-------------------+-------------+----------------------+------------+----------------------+-----------+---------------+\n",
            "| No. of CNN_Layers | kernal_size | Batch Normalisations |  Dropout   | No. of hidden layers | Test loss | Test Accuracy |\n",
            "+-------------------+-------------+----------------------+------------+----------------------+-----------+---------------+\n",
            "|         3         |    (3, 3)   |          No          |    0.5     |          1           |   0.024   |      0.99     |\n",
            "|         3         |    (2, 2)   |         Yes          | No dropout |          1           |   0.054   |      0.98     |\n",
            "|         3         |    (5, 5)   |         Yes          |    0.3     |          2           |   0.376   |      0.87     |\n",
            "|         5         |    (3, 3)   |          No          |    0.25    |          1           |   14.548  |      0.09     |\n",
            "|         5         |    (2, 2)   |         Yes          | No droput  |          3           |   0.047   |      0.98     |\n",
            "|         5         |    (5, 5)   |         Yes          |    0.3     |          3           |   14.53   |      0.09     |\n",
            "|         7         |    (3, 3)   |          No          |    0.25    |          1           |    2.3    |      0.11     |\n",
            "|         7         |    (2, 2)   |         Yes          | No dropout |          2           |   4.974   |      0.5      |\n",
            "|         7         |    (5, 5)   |         Yes          |    0.3     |          2           |   0.773   |      0.74     |\n",
            "+-------------------+-------------+----------------------+------------+----------------------+-----------+---------------+\n"
          ],
          "name": "stdout"
        }
      ]
    },
    {
      "cell_type": "markdown",
      "metadata": {
        "id": "YeF1VjM6pzaR",
        "colab_type": "text"
      },
      "source": [
        "<h2> step by step procedure for above experiment</h2>"
      ]
    },
    {
      "cell_type": "markdown",
      "metadata": {
        "id": "tWjuatps1SCn",
        "colab_type": "text"
      },
      "source": [
        "1.Three different architecture of convolution layer has been implemented.There are three , five and seven convolution layers with \"**Adadelta optimizers**\" in each case\n",
        "\n",
        "2.**First architecture i.e. three convolution layer** has been further experimented in three more categories.\n",
        "\n",
        "3.In each categories, with different kernal size, dropout and maxpooling experiment has been performed\n",
        "\n",
        "4.For the first categories kernal size is (3,3), dropout=0.5 and maxpoolsize=(3,3).\n",
        "\n",
        "5.For the second categories kernal size is(2,2), same maxpooling as above with bathnormalisation and with no dropout experiment has been performed.\n",
        "\n",
        "6.For the third categories kernal size is(5,5), same maxpooling with bathnormalisation and dropout= 0.3 experiment has been performed.\n",
        "\n",
        "7.for each categories test score and test accuracy has been evaluated with different parameter.\n",
        "\n",
        "\n",
        "8.**Second architecture (i.e. five convolution layer)** has been further experimented in three more categories in the same way as first architecture.\n",
        "\n",
        "9.In each categories, with different kernal size, dropout and maxpooling experiment has been performed\n",
        "\n",
        "10.For the first categories kernal size is (3,3), dropout=0.25 and maxpoolsize=(3,3).\n",
        "\n",
        "11.For the second categories kernal size is(2,2), same maxpooling as above with bathnormalisation and with no dropout experiment has been performed.\n",
        "\n",
        "12.For the third categories kernal size is(5,5), same maxpooling with bathnormalisation and dropout= 0.3 experiment has been performed.\n",
        "\n",
        "13.for each categories test score and test accuracy has been evaluated with different parameter.\n",
        "\n",
        "\n",
        "14.**Third architecture (i.e. Seven convolution layer)** has been further experimented in three more categories in the same way as first and second architecture.\n",
        "\n",
        "15.In each categories, with different kernal size, dropout and maxpooling experiment has been performed\n",
        "\n",
        "16.For the first categories kernal size is (3,3), dropout=0.25 and maxpoolsize=(3,3).\n",
        "\n",
        "17.For the second categories kernal size is(2,2), same maxpooling as above with bathnormalisation and with no dropout experiment has been performed.\n",
        "\n",
        "18.For the third categories kernal size is(5,5), same maxpooling with bathnormalisation and dropout= 0.3 experiment has been performed.\n",
        "\n",
        "19.for each categories test score and test accuracy has been evaluated with different parameter.\n",
        "\n",
        "20.see the **preetytable** to observe the different result in different case "
      ]
    },
    {
      "cell_type": "markdown",
      "metadata": {
        "colab_type": "text",
        "id": "CMX3dDBe-8jJ"
      },
      "source": [
        "<h2>MODEL1 : Three Convolutional Network with Adam as optimizer</h2>"
      ]
    },
    {
      "cell_type": "markdown",
      "metadata": {
        "colab_type": "text",
        "id": "3Clg357m-8jS"
      },
      "source": [
        "<h3>1.1 with kernal_size = (3,3), Dropout = 0.5 and MaxPooling(pool_size =(2,2))"
      ]
    },
    {
      "cell_type": "code",
      "metadata": {
        "colab_type": "code",
        "outputId": "0d077684-2000-4634-c430-d0d83a583222",
        "id": "v3cveovv-8jU",
        "colab": {
          "base_uri": "https://localhost:8080/",
          "height": 508
        }
      },
      "source": [
        "model = Sequential()\n",
        "model.add(Conv2D(32, kernel_size=(3, 3),\n",
        "                 activation='relu',\n",
        "                 input_shape=input_shape))\n",
        "\n",
        "model.add(Conv2D(64, (3, 3), activation='relu'))\n",
        "model.add(MaxPooling2D(pool_size=(2, 2)))\n",
        "\n",
        "model.add(Conv2D(96, (3, 3), activation='relu'))\n",
        "model.add(MaxPooling2D(pool_size=(2, 2)))\n",
        "\n",
        "model.add(Flatten())\n",
        "model.add(Dense(75, activation='relu'))\n",
        "model.add(Dropout(0.5))\n",
        "model.add(Dense(num_classes, activation='softmax'))\n",
        "\n",
        "model.compile(loss=keras.losses.categorical_crossentropy,\n",
        "              optimizer=keras.optimizers.Adam(),\n",
        "              metrics=['accuracy'])\n",
        "\n",
        "history = model.fit(x_train, y_train,\n",
        "          batch_size=batch_size,\n",
        "          epochs=epochs,\n",
        "          verbose=1,\n",
        "          validation_data=(x_test, y_test))\n",
        "score = model.evaluate(x_test, y_test, verbose=0)\n",
        "print('Test loss:', score[0])\n",
        "print('Test accuracy:', score[1])"
      ],
      "execution_count": 0,
      "outputs": [
        {
          "output_type": "stream",
          "text": [
            "Train on 60000 samples, validate on 10000 samples\n",
            "Epoch 1/12\n",
            "60000/60000 [==============================] - 179s 3ms/step - loss: 0.3042 - acc: 0.9072 - val_loss: 0.0479 - val_acc: 0.9850\n",
            "Epoch 2/12\n",
            "60000/60000 [==============================] - 178s 3ms/step - loss: 0.0999 - acc: 0.9708 - val_loss: 0.0312 - val_acc: 0.9885\n",
            "Epoch 3/12\n",
            "60000/60000 [==============================] - 178s 3ms/step - loss: 0.0728 - acc: 0.9787 - val_loss: 0.0310 - val_acc: 0.9893\n",
            "Epoch 4/12\n",
            "60000/60000 [==============================] - 178s 3ms/step - loss: 0.0574 - acc: 0.9839 - val_loss: 0.0229 - val_acc: 0.9916\n",
            "Epoch 5/12\n",
            "60000/60000 [==============================] - 177s 3ms/step - loss: 0.0463 - acc: 0.9864 - val_loss: 0.0223 - val_acc: 0.9924\n",
            "Epoch 6/12\n",
            "60000/60000 [==============================] - 177s 3ms/step - loss: 0.0416 - acc: 0.9875 - val_loss: 0.0229 - val_acc: 0.9924\n",
            "Epoch 7/12\n",
            "60000/60000 [==============================] - 177s 3ms/step - loss: 0.0369 - acc: 0.9887 - val_loss: 0.0196 - val_acc: 0.9929\n",
            "Epoch 8/12\n",
            "60000/60000 [==============================] - 177s 3ms/step - loss: 0.0319 - acc: 0.9904 - val_loss: 0.0195 - val_acc: 0.9941\n",
            "Epoch 9/12\n",
            "60000/60000 [==============================] - 177s 3ms/step - loss: 0.0298 - acc: 0.9913 - val_loss: 0.0197 - val_acc: 0.9931\n",
            "Epoch 10/12\n",
            "60000/60000 [==============================] - 177s 3ms/step - loss: 0.0248 - acc: 0.9922 - val_loss: 0.0200 - val_acc: 0.9941\n",
            "Epoch 11/12\n",
            "60000/60000 [==============================] - 177s 3ms/step - loss: 0.0257 - acc: 0.9920 - val_loss: 0.0221 - val_acc: 0.9939\n",
            "Epoch 12/12\n",
            "60000/60000 [==============================] - 177s 3ms/step - loss: 0.0221 - acc: 0.9931 - val_loss: 0.0197 - val_acc: 0.9946\n",
            "Test loss: 0.019714530481706516\n",
            "Test accuracy: 0.9946\n"
          ],
          "name": "stdout"
        }
      ]
    },
    {
      "cell_type": "code",
      "metadata": {
        "id": "O787m1iswDPm",
        "colab_type": "code",
        "outputId": "4b49f101-896d-445f-d58d-8dd8b1572475",
        "colab": {
          "base_uri": "https://localhost:8080/",
          "height": 283
        }
      },
      "source": [
        "fig,ax = plt.subplots(1,1)\n",
        "ax.set_xlabel('epoch') ; ax.set_ylabel('Categorical Crossentropy Loss')\n",
        "\n",
        "# list of epoch numbers\n",
        "x = list(range(1,epochs+1))\n",
        "\n",
        "# val_loss : validation loss\n",
        "# val_acc : validation accuracy\n",
        "\n",
        "# loss : training loss\n",
        "# acc : train accuracy\n",
        "\n",
        "vy = history.history['val_loss']\n",
        "ty = history.history['loss']\n",
        "plt_dynamic(x, vy, ty, ax)"
      ],
      "execution_count": 0,
      "outputs": [
        {
          "output_type": "display_data",
          "data": {
            "image/png": "[encoded data removed]",
            "text/plain": [
              "<Figure size 432x288 with 1 Axes>"
            ]
          },
          "metadata": {
            "tags": []
          }
        }
      ]
    },
    {
      "cell_type": "markdown",
      "metadata": {
        "colab_type": "text",
        "id": "i4JAPl6B-8jb"
      },
      "source": [
        "<h3>1.2 with kernal_size = (2,2), BN and MaxPooling</h3>"
      ]
    },
    {
      "cell_type": "code",
      "metadata": {
        "colab_type": "code",
        "outputId": "79108134-6a4f-4b91-c1e5-790652ff3ae8",
        "id": "F3sxviD8-8jc",
        "colab": {
          "base_uri": "https://localhost:8080/",
          "height": 508
        }
      },
      "source": [
        "model = Sequential()\n",
        "model.add(Conv2D(22, kernel_size=(2, 2),\n",
        "                 activation='relu',\n",
        "                 input_shape=input_shape))\n",
        "model.add(MaxPooling2D(pool_size=(2, 2)))\n",
        "\n",
        "model.add(Conv2D(44, (2, 2), activation='relu'))\n",
        "model.add(MaxPooling2D(pool_size=(2, 2)))\n",
        "\n",
        "model.add(Conv2D(66, (2, 2), activation='relu'))\n",
        "model.add(MaxPooling2D(pool_size=(2, 2)))\n",
        "\n",
        "model.add(Flatten())\n",
        "model.add(BatchNormalization())\n",
        "model.add(Dense(128, activation='relu'))\n",
        "model.add(BatchNormalization())\n",
        "model.add(Dense(num_classes, activation='softmax'))\n",
        "\n",
        "model.compile(loss=keras.losses.categorical_crossentropy,\n",
        "              optimizer=keras.optimizers.Adam(),\n",
        "              metrics=['accuracy'])\n",
        "\n",
        "history = model.fit(x_train, y_train,\n",
        "          batch_size=batch_size,\n",
        "          epochs=epochs,\n",
        "          verbose=1,\n",
        "          validation_data=(x_test, y_test))\n",
        "score = model.evaluate(x_test, y_test, verbose=0)\n",
        "print('Test loss:', score[0])\n",
        "print('Test accuracy:', score[1])"
      ],
      "execution_count": 0,
      "outputs": [
        {
          "output_type": "stream",
          "text": [
            "Train on 60000 samples, validate on 10000 samples\n",
            "Epoch 1/12\n",
            "60000/60000 [==============================] - 36s 598us/step - loss: 0.1735 - acc: 0.9476 - val_loss: 0.0835 - val_acc: 0.9755\n",
            "Epoch 2/12\n",
            "60000/60000 [==============================] - 33s 557us/step - loss: 0.0520 - acc: 0.9848 - val_loss: 0.0563 - val_acc: 0.9842\n",
            "Epoch 3/12\n",
            "60000/60000 [==============================] - 34s 558us/step - loss: 0.0367 - acc: 0.9889 - val_loss: 0.0633 - val_acc: 0.9809\n",
            "Epoch 4/12\n",
            "60000/60000 [==============================] - 34s 559us/step - loss: 0.0271 - acc: 0.9919 - val_loss: 0.0431 - val_acc: 0.9872\n",
            "Epoch 5/12\n",
            "60000/60000 [==============================] - 34s 560us/step - loss: 0.0227 - acc: 0.9929 - val_loss: 0.0541 - val_acc: 0.9846\n",
            "Epoch 6/12\n",
            "60000/60000 [==============================] - 33s 554us/step - loss: 0.0195 - acc: 0.9937 - val_loss: 0.0389 - val_acc: 0.9874\n",
            "Epoch 7/12\n",
            "60000/60000 [==============================] - 33s 552us/step - loss: 0.0138 - acc: 0.9960 - val_loss: 0.0715 - val_acc: 0.9781\n",
            "Epoch 8/12\n",
            "60000/60000 [==============================] - 35s 576us/step - loss: 0.0126 - acc: 0.9962 - val_loss: 0.0516 - val_acc: 0.9847\n",
            "Epoch 9/12\n",
            "60000/60000 [==============================] - 34s 568us/step - loss: 0.0114 - acc: 0.9963 - val_loss: 0.0445 - val_acc: 0.9872\n",
            "Epoch 10/12\n",
            "60000/60000 [==============================] - 34s 564us/step - loss: 0.0129 - acc: 0.9957 - val_loss: 0.0513 - val_acc: 0.9879\n",
            "Epoch 11/12\n",
            "60000/60000 [==============================] - 35s 581us/step - loss: 0.0089 - acc: 0.9973 - val_loss: 0.1000 - val_acc: 0.9715\n",
            "Epoch 12/12\n",
            "60000/60000 [==============================] - 34s 574us/step - loss: 0.0067 - acc: 0.9981 - val_loss: 0.0459 - val_acc: 0.9875\n",
            "Test loss: 0.04589277531141852\n",
            "Test accuracy: 0.9875\n"
          ],
          "name": "stdout"
        }
      ]
    },
    {
      "cell_type": "code",
      "metadata": {
        "id": "MAa5tatqwFqO",
        "colab_type": "code",
        "outputId": "d48e72ed-b672-42dd-d989-6e6e6802f2d9",
        "colab": {
          "base_uri": "https://localhost:8080/",
          "height": 283
        }
      },
      "source": [
        "fig,ax = plt.subplots(1,1)\n",
        "ax.set_xlabel('epoch') ; ax.set_ylabel('Categorical Crossentropy Loss')\n",
        "\n",
        "# list of epoch numbers\n",
        "x = list(range(1,epochs+1))\n",
        "\n",
        "# val_loss : validation loss\n",
        "# val_acc : validation accuracy\n",
        "\n",
        "# loss : training loss\n",
        "# acc : train accuracy\n",
        "\n",
        "vy = history.history['val_loss']\n",
        "ty = history.history['loss']\n",
        "plt_dynamic(x, vy, ty, ax)"
      ],
      "execution_count": 0,
      "outputs": [
        {
          "output_type": "display_data",
          "data": {
            "image/png": "[encoded data removed]",
            "text/plain": [
              "<Figure size 432x288 with 1 Axes>"
            ]
          },
          "metadata": {
            "tags": []
          }
        }
      ]
    },
    {
      "cell_type": "markdown",
      "metadata": {
        "colab_type": "text",
        "id": "QrEOcIln-8jg"
      },
      "source": [
        "<h3>1.3 with kernal_size = (5,5), Dropout = 0.3, BN and MaxPooling</h3>"
      ]
    },
    {
      "cell_type": "code",
      "metadata": {
        "colab_type": "code",
        "outputId": "ded084e3-6fce-4733-f1a6-6f7f603e8fe8",
        "id": "QMn8Glfa-8jh",
        "colab": {
          "base_uri": "https://localhost:8080/",
          "height": 508
        }
      },
      "source": [
        "model = Sequential()\n",
        "model.add(Conv2D(44, kernel_size=(5, 5),\n",
        "                 activation='relu',\n",
        "                 input_shape=input_shape))\n",
        "model.add(MaxPooling2D(pool_size=(2, 2)))\n",
        "\n",
        "model.add(Conv2D(89, (5, 5), activation='relu'))\n",
        "model.add(MaxPooling2D(pool_size=(2, 2)))\n",
        "\n",
        "model.add(Conv2D(165, (5, 5), activation='relu', padding='same'))\n",
        "model.add(MaxPooling2D(pool_size=(2, 2)))\n",
        "\n",
        "model.add(Flatten())\n",
        "model.add(Dense(128, activation='relu'))\n",
        "model.add(BatchNormalization())\n",
        "model.add(Dropout(0.3))\n",
        "\n",
        "model.add(Dense(97, activation='relu'))\n",
        "model.add(BatchNormalization())\n",
        "model.add(Dropout(0.3))\n",
        "\n",
        "model.add(Dense(num_classes, activation='softmax'))\n",
        "\n",
        "model.compile(loss=keras.losses.categorical_crossentropy,\n",
        "              optimizer=keras.optimizers.Adam(),\n",
        "              metrics=['accuracy'])\n",
        "\n",
        "history = model.fit(x_train, y_train,\n",
        "          batch_size=batch_size,\n",
        "          epochs=epochs,\n",
        "          verbose=1,\n",
        "          validation_data=(x_test, y_test))\n",
        "score = model.evaluate(x_test, y_test, verbose=0)\n",
        "print('Test loss:', score[0])\n",
        "print('Test accuracy:', score[1])"
      ],
      "execution_count": 0,
      "outputs": [
        {
          "output_type": "stream",
          "text": [
            "Train on 60000 samples, validate on 10000 samples\n",
            "Epoch 1/12\n",
            "60000/60000 [==============================] - 190s 3ms/step - loss: 0.1844 - acc: 0.9458 - val_loss: 0.0639 - val_acc: 0.9786\n",
            "Epoch 2/12\n",
            "60000/60000 [==============================] - 187s 3ms/step - loss: 0.0554 - acc: 0.9842 - val_loss: 0.0661 - val_acc: 0.9794\n",
            "Epoch 3/12\n",
            "60000/60000 [==============================] - 187s 3ms/step - loss: 0.0388 - acc: 0.9886 - val_loss: 0.0875 - val_acc: 0.9726\n",
            "Epoch 4/12\n",
            "60000/60000 [==============================] - 188s 3ms/step - loss: 0.0295 - acc: 0.9910 - val_loss: 0.0565 - val_acc: 0.9839\n",
            "Epoch 5/12\n",
            "60000/60000 [==============================] - 188s 3ms/step - loss: 0.0259 - acc: 0.9924 - val_loss: 0.0264 - val_acc: 0.9923\n",
            "Epoch 6/12\n",
            "60000/60000 [==============================] - 187s 3ms/step - loss: 0.0221 - acc: 0.9935 - val_loss: 0.0581 - val_acc: 0.9826\n",
            "Epoch 7/12\n",
            "60000/60000 [==============================] - 187s 3ms/step - loss: 0.0203 - acc: 0.9936 - val_loss: 0.0231 - val_acc: 0.9934\n",
            "Epoch 8/12\n",
            "60000/60000 [==============================] - 188s 3ms/step - loss: 0.0159 - acc: 0.9950 - val_loss: 0.0365 - val_acc: 0.9899\n",
            "Epoch 9/12\n",
            "60000/60000 [==============================] - 188s 3ms/step - loss: 0.0138 - acc: 0.9961 - val_loss: 0.0413 - val_acc: 0.9890\n",
            "Epoch 10/12\n",
            "60000/60000 [==============================] - 188s 3ms/step - loss: 0.0122 - acc: 0.9963 - val_loss: 0.0452 - val_acc: 0.9882\n",
            "Epoch 11/12\n",
            "60000/60000 [==============================] - 187s 3ms/step - loss: 0.0125 - acc: 0.9962 - val_loss: 0.0305 - val_acc: 0.9911\n",
            "Epoch 12/12\n",
            "60000/60000 [==============================] - 187s 3ms/step - loss: 0.0104 - acc: 0.9966 - val_loss: 0.0258 - val_acc: 0.9927\n",
            "Test loss: 0.0258149948295174\n",
            "Test accuracy: 0.9927\n"
          ],
          "name": "stdout"
        }
      ]
    },
    {
      "cell_type": "code",
      "metadata": {
        "id": "rXx6YVJSwH8Q",
        "colab_type": "code",
        "outputId": "43c6709f-13d1-4822-b2c8-32a07455aefa",
        "colab": {
          "base_uri": "https://localhost:8080/",
          "height": 283
        }
      },
      "source": [
        "fig,ax = plt.subplots(1,1)\n",
        "ax.set_xlabel('epoch') ; ax.set_ylabel('Categorical Crossentropy Loss')\n",
        "\n",
        "# list of epoch numbers\n",
        "x = list(range(1,epochs+1))\n",
        "\n",
        "# val_loss : validation loss\n",
        "# val_acc : validation accuracy\n",
        "\n",
        "# loss : training loss\n",
        "# acc : train accuracy\n",
        "\n",
        "vy = history.history['val_loss']\n",
        "ty = history.history['loss']\n",
        "plt_dynamic(x, vy, ty, ax)"
      ],
      "execution_count": 0,
      "outputs": [
        {
          "output_type": "display_data",
          "data": {
            "image/png": "[encoded data removed]",
            "text/plain": [
              "<Figure size 432x288 with 1 Axes>"
            ]
          },
          "metadata": {
            "tags": []
          }
        }
      ]
    },
    {
      "cell_type": "markdown",
      "metadata": {
        "colab_type": "text",
        "id": "dQG9mbBm-8jj"
      },
      "source": [
        "<h2>MODEL2 : Five Convolutional Network with Adam as optimizer</h2>"
      ]
    },
    {
      "cell_type": "markdown",
      "metadata": {
        "colab_type": "text",
        "id": "hMxx-r0C-8jl"
      },
      "source": [
        "<h3>2.1 with kernal_size = (3,3), Dropout = 0.25 and MaxPooling(pool_size =(3,3))"
      ]
    },
    {
      "cell_type": "code",
      "metadata": {
        "colab_type": "code",
        "outputId": "6e608a59-43c4-4412-fd69-754bf4426c0f",
        "id": "tcsJ20ZN-8jm",
        "colab": {
          "base_uri": "https://localhost:8080/",
          "height": 508
        }
      },
      "source": [
        "model = Sequential()\n",
        "model.add(Conv2D(25, kernel_size=(3, 3), activation='relu',input_shape=input_shape))\n",
        "model.add(MaxPooling2D(pool_size=(2, 2)))\n",
        "\n",
        "model.add(Conv2D(55, (3, 3), activation='relu'))\n",
        "model.add(MaxPooling2D(pool_size=(2, 2)))\n",
        "\n",
        "model.add(Conv2D(78, (3, 3), activation='relu'))\n",
        "model.add(MaxPooling2D(pool_size=(2, 2)))\n",
        "\n",
        "model.add(Conv2D(96, (3, 3), activation='relu', padding='same'))\n",
        "model.add(MaxPooling2D(pool_size=(2, 2), padding='same'))\n",
        "\n",
        "model.add(Conv2D(108, (3, 3), activation='relu', padding='same'))\n",
        "model.add(MaxPooling2D(pool_size=(2, 2), padding='same'))\n",
        "\n",
        "model.add(Flatten())\n",
        "model.add(Dense(128, activation='relu'))\n",
        "model.add(Dropout(0.25))\n",
        "model.add(Dense(num_classes, activation='softmax'))\n",
        "\n",
        "model.compile(loss=keras.losses.categorical_crossentropy,\n",
        "              optimizer=keras.optimizers.Adam(),\n",
        "              metrics=['accuracy'])\n",
        "\n",
        "history = model.fit(x_train, y_train,\n",
        "          batch_size=batch_size,\n",
        "          epochs=epochs,\n",
        "          verbose=1,\n",
        "          validation_data=(x_test, y_test))\n",
        "score = model.evaluate(x_test, y_test, verbose=0)\n",
        "print('Test loss:', score[0])\n",
        "print('Test accuracy:', score[1])"
      ],
      "execution_count": 0,
      "outputs": [
        {
          "output_type": "stream",
          "text": [
            "Train on 60000 samples, validate on 10000 samples\n",
            "Epoch 1/12\n",
            "60000/60000 [==============================] - 52s 866us/step - loss: 0.5362 - acc: 0.8196 - val_loss: 0.2049 - val_acc: 0.9340\n",
            "Epoch 2/12\n",
            "60000/60000 [==============================] - 50s 828us/step - loss: 0.1620 - acc: 0.9507 - val_loss: 0.1245 - val_acc: 0.9607\n",
            "Epoch 3/12\n",
            "60000/60000 [==============================] - 50s 826us/step - loss: 0.1150 - acc: 0.9657 - val_loss: 0.1350 - val_acc: 0.9579\n",
            "Epoch 4/12\n",
            "60000/60000 [==============================] - 50s 828us/step - loss: 0.0891 - acc: 0.9735 - val_loss: 0.0887 - val_acc: 0.9728\n",
            "Epoch 5/12\n",
            "60000/60000 [==============================] - 49s 822us/step - loss: 0.0737 - acc: 0.9780 - val_loss: 0.0671 - val_acc: 0.9785\n",
            "Epoch 6/12\n",
            "60000/60000 [==============================] - 50s 828us/step - loss: 0.0608 - acc: 0.9821 - val_loss: 0.0594 - val_acc: 0.9834\n",
            "Epoch 7/12\n",
            "60000/60000 [==============================] - 50s 830us/step - loss: 0.0532 - acc: 0.9845 - val_loss: 0.0580 - val_acc: 0.9833\n",
            "Epoch 8/12\n",
            "60000/60000 [==============================] - 49s 819us/step - loss: 0.0466 - acc: 0.9861 - val_loss: 0.0575 - val_acc: 0.9837\n",
            "Epoch 9/12\n",
            "60000/60000 [==============================] - 49s 824us/step - loss: 0.0423 - acc: 0.9870 - val_loss: 0.0497 - val_acc: 0.9851\n",
            "Epoch 10/12\n",
            "60000/60000 [==============================] - 50s 827us/step - loss: 0.0369 - acc: 0.9886 - val_loss: 0.0575 - val_acc: 0.9847\n",
            "Epoch 11/12\n",
            "60000/60000 [==============================] - 49s 823us/step - loss: 0.0319 - acc: 0.9905 - val_loss: 0.0520 - val_acc: 0.9846\n",
            "Epoch 12/12\n",
            "60000/60000 [==============================] - 49s 822us/step - loss: 0.0291 - acc: 0.9912 - val_loss: 0.0474 - val_acc: 0.9862\n",
            "Test loss: 0.04744445713285823\n",
            "Test accuracy: 0.9862\n"
          ],
          "name": "stdout"
        }
      ]
    },
    {
      "cell_type": "code",
      "metadata": {
        "id": "EAxaCF1lwKtw",
        "colab_type": "code",
        "outputId": "258dad75-89f8-4561-b03a-0e77021c464e",
        "colab": {
          "base_uri": "https://localhost:8080/",
          "height": 283
        }
      },
      "source": [
        "fig,ax = plt.subplots(1,1)\n",
        "ax.set_xlabel('epoch') ; ax.set_ylabel('Categorical Crossentropy Loss')\n",
        "\n",
        "# list of epoch numbers\n",
        "x = list(range(1,epochs+1))\n",
        "\n",
        "# val_loss : validation loss\n",
        "# val_acc : validation accuracy\n",
        "\n",
        "# loss : training loss\n",
        "# acc : train accuracy\n",
        "\n",
        "vy = history.history['val_loss']\n",
        "ty = history.history['loss']\n",
        "plt_dynamic(x, vy, ty, ax)"
      ],
      "execution_count": 0,
      "outputs": [
        {
          "output_type": "display_data",
          "data": {
            "image/png": "[encoded data removed]",
            "text/plain": [
              "<Figure size 432x288 with 1 Axes>"
            ]
          },
          "metadata": {
            "tags": []
          }
        }
      ]
    },
    {
      "cell_type": "markdown",
      "metadata": {
        "colab_type": "text",
        "id": "d-Oae83T-8jo"
      },
      "source": [
        "<h3>2.2 with kernal_size = (2,2), BN and MaxPooling</h3>"
      ]
    },
    {
      "cell_type": "code",
      "metadata": {
        "colab_type": "code",
        "outputId": "6ec2156b-db75-4e73-ed53-080cdec3b262",
        "id": "n1EePsiT-8jp",
        "colab": {
          "base_uri": "https://localhost:8080/",
          "height": 508
        }
      },
      "source": [
        "model = Sequential()\n",
        "model.add(Conv2D(29, kernel_size=(2, 2),\n",
        "                 activation='relu',\n",
        "                 input_shape=input_shape))\n",
        "model.add(MaxPooling2D(pool_size=(2, 2)))\n",
        "\n",
        "model.add(Conv2D(38, (2, 2), activation='relu', padding='same'))\n",
        "model.add(MaxPooling2D(pool_size=(2, 2), padding='same'))\n",
        "\n",
        "model.add(Conv2D(49, (2, 2), activation='relu', padding='same'))\n",
        "model.add(MaxPooling2D(pool_size=(2, 2), padding='same'))\n",
        "\n",
        "model.add(Conv2D(65, (2, 2), activation='relu', padding='same'))\n",
        "model.add(MaxPooling2D(pool_size=(2, 2), padding='same'))\n",
        "\n",
        "model.add(Conv2D(85, (2, 2), activation='relu', padding='same'))\n",
        "model.add(MaxPooling2D(pool_size=(2, 2), padding='same'))\n",
        "\n",
        "model.add(Flatten())\n",
        "model.add(Dense(133, activation='relu'))\n",
        "model.add(BatchNormalization())\n",
        "\n",
        "model.add(Dense(95, activation='relu'))\n",
        "model.add(BatchNormalization())\n",
        "\n",
        "model.add(Dense(76, activation='relu'))\n",
        "model.add(BatchNormalization())\n",
        "\n",
        "model.add(Dense(num_classes, activation='softmax'))\n",
        "\n",
        "model.compile(loss=keras.losses.categorical_crossentropy,\n",
        "              optimizer=keras.optimizers.Adam(),\n",
        "              metrics=['accuracy'])\n",
        "\n",
        "history = model.fit(x_train, y_train,\n",
        "          batch_size=batch_size,\n",
        "          epochs=epochs,\n",
        "          verbose=1,\n",
        "          validation_data=(x_test, y_test))\n",
        "score = model.evaluate(x_test, y_test, verbose=0)\n",
        "print('Test loss:', score[0])\n",
        "print('Test accuracy:', score[1])"
      ],
      "execution_count": 0,
      "outputs": [
        {
          "output_type": "stream",
          "text": [
            "Train on 60000 samples, validate on 10000 samples\n",
            "Epoch 1/12\n",
            "60000/60000 [==============================] - 48s 806us/step - loss: 0.2226 - acc: 0.9305 - val_loss: 0.5700 - val_acc: 0.8309\n",
            "Epoch 2/12\n",
            "60000/60000 [==============================] - 45s 755us/step - loss: 0.0601 - acc: 0.9812 - val_loss: 0.2280 - val_acc: 0.9181\n",
            "Epoch 3/12\n",
            "60000/60000 [==============================] - 45s 754us/step - loss: 0.0442 - acc: 0.9866 - val_loss: 0.3382 - val_acc: 0.8997\n",
            "Epoch 4/12\n",
            "60000/60000 [==============================] - 45s 757us/step - loss: 0.0373 - acc: 0.9880 - val_loss: 0.3386 - val_acc: 0.8938\n",
            "Epoch 5/12\n",
            "60000/60000 [==============================] - 45s 752us/step - loss: 0.0314 - acc: 0.9896 - val_loss: 0.1397 - val_acc: 0.9567\n",
            "Epoch 6/12\n",
            "60000/60000 [==============================] - 45s 756us/step - loss: 0.0280 - acc: 0.9911 - val_loss: 0.0629 - val_acc: 0.9796\n",
            "Epoch 7/12\n",
            "60000/60000 [==============================] - 45s 754us/step - loss: 0.0259 - acc: 0.9916 - val_loss: 0.3566 - val_acc: 0.8935\n",
            "Epoch 8/12\n",
            "60000/60000 [==============================] - 45s 754us/step - loss: 0.0226 - acc: 0.9927 - val_loss: 0.0680 - val_acc: 0.9772\n",
            "Epoch 9/12\n",
            "60000/60000 [==============================] - 45s 755us/step - loss: 0.0226 - acc: 0.9926 - val_loss: 0.0622 - val_acc: 0.9816\n",
            "Epoch 10/12\n",
            "60000/60000 [==============================] - 45s 753us/step - loss: 0.0181 - acc: 0.9941 - val_loss: 0.2622 - val_acc: 0.9313\n",
            "Epoch 11/12\n",
            "60000/60000 [==============================] - 45s 757us/step - loss: 0.0196 - acc: 0.9931 - val_loss: 0.1689 - val_acc: 0.9506\n",
            "Epoch 12/12\n",
            "60000/60000 [==============================] - 45s 757us/step - loss: 0.0155 - acc: 0.9947 - val_loss: 0.0786 - val_acc: 0.9766\n",
            "Test loss: 0.07857787121404544\n",
            "Test accuracy: 0.9766\n"
          ],
          "name": "stdout"
        }
      ]
    },
    {
      "cell_type": "code",
      "metadata": {
        "id": "NV2DqHvawMyx",
        "colab_type": "code",
        "outputId": "956efb22-7e83-49e8-b0da-a42a2df38633",
        "colab": {
          "base_uri": "https://localhost:8080/",
          "height": 283
        }
      },
      "source": [
        "fig,ax = plt.subplots(1,1)\n",
        "ax.set_xlabel('epoch') ; ax.set_ylabel('Categorical Crossentropy Loss')\n",
        "\n",
        "# list of epoch numbers\n",
        "x = list(range(1,epochs+1))\n",
        "\n",
        "# val_loss : validation loss\n",
        "# val_acc : validation accuracy\n",
        "\n",
        "# loss : training loss\n",
        "# acc : train accuracy\n",
        "\n",
        "vy = history.history['val_loss']\n",
        "ty = history.history['loss']\n",
        "plt_dynamic(x, vy, ty, ax)"
      ],
      "execution_count": 0,
      "outputs": [
        {
          "output_type": "display_data",
          "data": {
            "image/png": "[encoded data removed]",
            "text/plain": [
              "<Figure size 432x288 with 1 Axes>"
            ]
          },
          "metadata": {
            "tags": []
          }
        }
      ]
    },
    {
      "cell_type": "markdown",
      "metadata": {
        "colab_type": "text",
        "id": "csul9KhT-8js"
      },
      "source": [
        "<h3>2.3 with kernal_size = (5,5), Dropout = 0.3, BN and MaxPooling</h3>"
      ]
    },
    {
      "cell_type": "code",
      "metadata": {
        "colab_type": "code",
        "outputId": "022e65ff-d17f-4d2f-b825-e0afaf4e51c9",
        "id": "KjpiZcp--8jt",
        "colab": {
          "base_uri": "https://localhost:8080/",
          "height": 508
        }
      },
      "source": [
        "model = Sequential()\n",
        "model.add(Conv2D(22, kernel_size=(5, 5),\n",
        "                 activation='relu',\n",
        "                 input_shape=input_shape))\n",
        "model.add(MaxPooling2D(pool_size=(2, 2)))\n",
        "\n",
        "model.add(Conv2D(43, (5, 5), activation='relu', padding='same'))\n",
        "model.add(MaxPooling2D(pool_size=(2, 2), padding='same'))\n",
        "\n",
        "model.add(Conv2D(78, (5, 5), activation='relu', padding='same'))\n",
        "model.add(MaxPooling2D(pool_size=(2, 2), padding='same'))\n",
        "\n",
        "model.add(Conv2D(93, (5, 5), activation='relu', padding='same'))\n",
        "model.add(MaxPooling2D(pool_size=(2, 2), padding='same'))\n",
        "\n",
        "model.add(Conv2D(117, (5, 5), activation='relu', padding='same'))\n",
        "model.add(MaxPooling2D(pool_size=(2, 2), padding='same'))\n",
        "\n",
        "model.add(Flatten())\n",
        "model.add(Dropout(0.3))\n",
        "model.add(Dense(86, activation='relu'))\n",
        "model.add(Dropout(0.3))\n",
        "model.add(Dense(65, activation='relu'))\n",
        "model.add(Dropout(0.3))\n",
        "model.add(Dense(45, activation='relu'))\n",
        "model.add(Dropout(0.3))\n",
        "model.add(Dense(num_classes, activation='softmax'))\n",
        "\n",
        "model.compile(loss=keras.losses.categorical_crossentropy,\n",
        "              optimizer=keras.optimizers.Adam(),\n",
        "              metrics=['accuracy'])\n",
        "\n",
        "history = model.fit(x_train, y_train,\n",
        "          batch_size=batch_size,\n",
        "          epochs=epochs,\n",
        "          verbose=1,\n",
        "          validation_data=(x_test, y_test))\n",
        "score = model.evaluate(x_test, y_test, verbose=0)\n",
        "print('Test loss:', score[0])\n",
        "print('Test accuracy:', score[1])"
      ],
      "execution_count": 0,
      "outputs": [
        {
          "output_type": "stream",
          "text": [
            "Train on 60000 samples, validate on 10000 samples\n",
            "Epoch 1/12\n",
            "60000/60000 [==============================] - 187s 3ms/step - loss: 0.8045 - acc: 0.7231 - val_loss: 0.1296 - val_acc: 0.9698\n",
            "Epoch 2/12\n",
            "60000/60000 [==============================] - 181s 3ms/step - loss: 0.1377 - acc: 0.9703 - val_loss: 0.0774 - val_acc: 0.9839\n",
            "Epoch 3/12\n",
            "60000/60000 [==============================] - 188s 3ms/step - loss: 0.0970 - acc: 0.9804 - val_loss: 0.0457 - val_acc: 0.9895\n",
            "Epoch 4/12\n",
            "60000/60000 [==============================] - 182s 3ms/step - loss: 0.0731 - acc: 0.9852 - val_loss: 0.0587 - val_acc: 0.9878\n",
            "Epoch 5/12\n",
            "60000/60000 [==============================] - 184s 3ms/step - loss: 0.0611 - acc: 0.9874 - val_loss: 0.0421 - val_acc: 0.9890\n",
            "Epoch 6/12\n",
            "60000/60000 [==============================] - 199s 3ms/step - loss: 0.0543 - acc: 0.9890 - val_loss: 0.0482 - val_acc: 0.9907\n",
            "Epoch 7/12\n",
            "60000/60000 [==============================] - 184s 3ms/step - loss: 0.0481 - acc: 0.9902 - val_loss: 0.0443 - val_acc: 0.9916\n",
            "Epoch 8/12\n",
            "60000/60000 [==============================] - 180s 3ms/step - loss: 0.0470 - acc: 0.9900 - val_loss: 0.0403 - val_acc: 0.9917\n",
            "Epoch 9/12\n",
            "60000/60000 [==============================] - 177s 3ms/step - loss: 0.0370 - acc: 0.9926 - val_loss: 0.0551 - val_acc: 0.9888\n",
            "Epoch 10/12\n",
            "60000/60000 [==============================] - 179s 3ms/step - loss: 0.0395 - acc: 0.9917 - val_loss: 0.0416 - val_acc: 0.9912\n",
            "Epoch 11/12\n",
            "60000/60000 [==============================] - 177s 3ms/step - loss: 0.0319 - acc: 0.9935 - val_loss: 0.0452 - val_acc: 0.9913\n",
            "Epoch 12/12\n",
            "60000/60000 [==============================] - 177s 3ms/step - loss: 0.0315 - acc: 0.9937 - val_loss: 0.0441 - val_acc: 0.9925\n",
            "Test loss: 0.04412776248144378\n",
            "Test accuracy: 0.9925\n"
          ],
          "name": "stdout"
        }
      ]
    },
    {
      "cell_type": "code",
      "metadata": {
        "id": "DbvGV_5twO0M",
        "colab_type": "code",
        "outputId": "f326cf15-7011-4bfe-e463-23663097b7b8",
        "colab": {
          "base_uri": "https://localhost:8080/",
          "height": 283
        }
      },
      "source": [
        "fig,ax = plt.subplots(1,1)\n",
        "ax.set_xlabel('epoch') ; ax.set_ylabel('Categorical Crossentropy Loss')\n",
        "\n",
        "# list of epoch numbers\n",
        "x = list(range(1,epochs+1))\n",
        "\n",
        "# val_loss : validation loss\n",
        "# val_acc : validation accuracy\n",
        "\n",
        "# loss : training loss\n",
        "# acc : train accuracy\n",
        "\n",
        "vy = history.history['val_loss']\n",
        "ty = history.history['loss']\n",
        "plt_dynamic(x, vy, ty, ax)"
      ],
      "execution_count": 0,
      "outputs": [
        {
          "output_type": "display_data",
          "data": {
            "image/png": "[encoded data removed]",
            "text/plain": [
              "<Figure size 432x288 with 1 Axes>"
            ]
          },
          "metadata": {
            "tags": []
          }
        }
      ]
    },
    {
      "cell_type": "markdown",
      "metadata": {
        "colab_type": "text",
        "id": "N-oeBKXv-8jx"
      },
      "source": [
        "<h2>MODEL3 : Seven Convolutional Network with Adam as optimizer</h2>"
      ]
    },
    {
      "cell_type": "markdown",
      "metadata": {
        "colab_type": "text",
        "id": "OvCDP33m-8jy"
      },
      "source": [
        "<h3>3.1 with kernal_size = (3,3), Dropout = 0.25 and MaxPooling(pool_size =(3,3))"
      ]
    },
    {
      "cell_type": "code",
      "metadata": {
        "colab_type": "code",
        "outputId": "41cf19b9-38e1-4cd5-9783-adbc0f5305e1",
        "id": "rwdIrBC--8jz",
        "colab": {
          "base_uri": "https://localhost:8080/",
          "height": 508
        }
      },
      "source": [
        "model = Sequential()\n",
        "model.add(Conv2D(32, kernel_size=(3, 3),\n",
        "                 activation='relu',\n",
        "                 input_shape=input_shape))\n",
        "model.add(MaxPooling2D(pool_size=(3, 3)))\n",
        "\n",
        "model.add(Conv2D(45, (3, 3), activation='relu'))\n",
        "model.add(MaxPooling2D(pool_size=(3, 3)))\n",
        "\n",
        "model.add(Conv2D(60, (3, 3), activation='relu', padding='same'))\n",
        "model.add(MaxPooling2D(pool_size=(3, 3), padding='same'))\n",
        "\n",
        "model.add(Conv2D(78, (3, 3), activation='relu', padding='same'))\n",
        "model.add(MaxPooling2D(pool_size=(3, 3), padding='same'))\n",
        "\n",
        "model.add(Conv2D(95, (3, 3), activation='relu', padding='same'))\n",
        "model.add(MaxPooling2D(pool_size=(3, 3), padding='same'))\n",
        "\n",
        "model.add(Conv2D(112, (3, 3), activation='relu', padding='same'))\n",
        "model.add(MaxPooling2D(pool_size=(3, 3), padding='same'))\n",
        "\n",
        "model.add(Conv2D(145, (3, 3), activation='relu', padding='same'))\n",
        "model.add(MaxPooling2D(pool_size=(3, 3), padding='same'))\n",
        "\n",
        "model.add(Flatten())\n",
        "model.add(Dense(128, activation='relu'))\n",
        "model.add(Dropout(0.25))\n",
        "model.add(Dense(num_classes, activation='softmax'))\n",
        "\n",
        "model.compile(loss=keras.losses.categorical_crossentropy,\n",
        "              optimizer=keras.optimizers.Adam(),\n",
        "              metrics=['accuracy'])\n",
        "\n",
        "history = model.fit(x_train, y_train,\n",
        "          batch_size=batch_size,\n",
        "          epochs=epochs,\n",
        "          verbose=1,\n",
        "          validation_data=(x_test, y_test))\n",
        "score = model.evaluate(x_test, y_test, verbose=0)\n",
        "print('Test loss:', score[0])\n",
        "print('Test accuracy:', score[1])"
      ],
      "execution_count": 0,
      "outputs": [
        {
          "output_type": "stream",
          "text": [
            "Train on 60000 samples, validate on 10000 samples\n",
            "Epoch 1/12\n",
            "60000/60000 [==============================] - 54s 906us/step - loss: 1.0199 - acc: 0.6124 - val_loss: 0.4529 - val_acc: 0.8509\n",
            "Epoch 2/12\n",
            "60000/60000 [==============================] - 51s 856us/step - loss: 0.2891 - acc: 0.9129 - val_loss: 0.1822 - val_acc: 0.9427\n",
            "Epoch 3/12\n",
            "60000/60000 [==============================] - 51s 856us/step - loss: 0.1613 - acc: 0.9527 - val_loss: 0.1207 - val_acc: 0.9632\n",
            "Epoch 4/12\n",
            "60000/60000 [==============================] - 52s 859us/step - loss: 0.1138 - acc: 0.9666 - val_loss: 0.0989 - val_acc: 0.9720\n",
            "Epoch 5/12\n",
            "60000/60000 [==============================] - 52s 862us/step - loss: 0.0867 - acc: 0.9756 - val_loss: 0.0634 - val_acc: 0.9819\n",
            "Epoch 6/12\n",
            "60000/60000 [==============================] - 52s 859us/step - loss: 0.0728 - acc: 0.9794 - val_loss: 0.0558 - val_acc: 0.9838\n",
            "Epoch 7/12\n",
            "60000/60000 [==============================] - 51s 854us/step - loss: 0.0595 - acc: 0.9834 - val_loss: 0.0591 - val_acc: 0.9841\n",
            "Epoch 8/12\n",
            "60000/60000 [==============================] - 51s 856us/step - loss: 0.0494 - acc: 0.9862 - val_loss: 0.0631 - val_acc: 0.9802\n",
            "Epoch 9/12\n",
            "60000/60000 [==============================] - 51s 854us/step - loss: 0.0453 - acc: 0.9872 - val_loss: 0.0457 - val_acc: 0.9870\n",
            "Epoch 10/12\n",
            "60000/60000 [==============================] - 51s 851us/step - loss: 0.0406 - acc: 0.9888 - val_loss: 0.0453 - val_acc: 0.9869\n",
            "Epoch 11/12\n",
            "60000/60000 [==============================] - 51s 857us/step - loss: 0.0385 - acc: 0.9887 - val_loss: 0.0584 - val_acc: 0.9825\n",
            "Epoch 12/12\n",
            "60000/60000 [==============================] - 51s 853us/step - loss: 0.0353 - acc: 0.9901 - val_loss: 0.0439 - val_acc: 0.9868\n",
            "Test loss: 0.04392361495406367\n",
            "Test accuracy: 0.9868\n"
          ],
          "name": "stdout"
        }
      ]
    },
    {
      "cell_type": "code",
      "metadata": {
        "id": "MVO9yhXewQYr",
        "colab_type": "code",
        "outputId": "862a5f03-87cc-480d-877a-2330d1595806",
        "colab": {
          "base_uri": "https://localhost:8080/",
          "height": 283
        }
      },
      "source": [
        "fig,ax = plt.subplots(1,1)\n",
        "ax.set_xlabel('epoch') ; ax.set_ylabel('Categorical Crossentropy Loss')\n",
        "\n",
        "# list of epoch numbers\n",
        "x = list(range(1,epochs+1))\n",
        "\n",
        "# val_loss : validation loss\n",
        "# val_acc : validation accuracy\n",
        "\n",
        "# loss : training loss\n",
        "# acc : train accuracy\n",
        "\n",
        "vy = history.history['val_loss']\n",
        "ty = history.history['loss']\n",
        "plt_dynamic(x, vy, ty, ax)"
      ],
      "execution_count": 0,
      "outputs": [
        {
          "output_type": "display_data",
          "data": {
            "image/png": "[encoded data removed]",
            "text/plain": [
              "<Figure size 432x288 with 1 Axes>"
            ]
          },
          "metadata": {
            "tags": []
          }
        }
      ]
    },
    {
      "cell_type": "markdown",
      "metadata": {
        "colab_type": "text",
        "id": "pAQ3LmQL-8j1"
      },
      "source": [
        "<h3>3.2 with kernal_size = (2,2), BN and MaxPooling</h3>"
      ]
    },
    {
      "cell_type": "code",
      "metadata": {
        "colab_type": "code",
        "outputId": "bda7b1ec-fb9e-4333-8332-8ae76c1a6785",
        "id": "wsU_aCBC-8j1",
        "colab": {
          "base_uri": "https://localhost:8080/",
          "height": 508
        }
      },
      "source": [
        "model = Sequential()\n",
        "model.add(Conv2D(22, kernel_size=(2, 2),\n",
        "                 activation='relu',\n",
        "                 input_shape=input_shape))\n",
        "model.add(MaxPooling2D(pool_size=(2, 2)))\n",
        "\n",
        "model.add(Conv2D(45, (2, 2), activation='relu'))\n",
        "model.add(MaxPooling2D(pool_size=(2, 2)))\n",
        "\n",
        "model.add(Conv2D(65, (2, 2), activation='relu', padding='same'))\n",
        "model.add(MaxPooling2D(pool_size=(2, 2), padding='same'))\n",
        "\n",
        "model.add(Conv2D(97, (2, 2), activation='relu', padding='same'))\n",
        "model.add(MaxPooling2D(pool_size=(2, 2), padding='same'))\n",
        "\n",
        "model.add(Conv2D(114, (2, 2), activation='relu', padding='same'))\n",
        "model.add(MaxPooling2D(pool_size=(2, 2), padding='same'))\n",
        "\n",
        "model.add(Conv2D(126, (2, 2), activation='relu', padding='same'))\n",
        "model.add(MaxPooling2D(pool_size=(2, 2), padding='same'))\n",
        "\n",
        "model.add(Conv2D(143, (2, 2), activation='relu', padding='same'))\n",
        "model.add(MaxPooling2D(pool_size=(2, 2), padding='same'))\n",
        "\n",
        "model.add(Flatten())\n",
        "model.add(Dense(97, activation='relu'))\n",
        "model.add(BatchNormalization())\n",
        "\n",
        "model.add(Dense(65, activation='relu'))\n",
        "model.add(BatchNormalization())\n",
        "\n",
        "model.add(Dense(num_classes, activation='softmax'))\n",
        "\n",
        "model.compile(loss=keras.losses.categorical_crossentropy,\n",
        "              optimizer=keras.optimizers.Adam(),\n",
        "              metrics=['accuracy'])\n",
        "\n",
        "history = model.fit(x_train, y_train,\n",
        "          batch_size=batch_size,\n",
        "          epochs=epochs,\n",
        "          verbose=1,\n",
        "          validation_data=(x_test, y_test))\n",
        "score = model.evaluate(x_test, y_test, verbose=0)\n",
        "print('Test loss:', score[0])\n",
        "print('Test accuracy:', score[1])"
      ],
      "execution_count": 0,
      "outputs": [
        {
          "output_type": "stream",
          "text": [
            "Train on 60000 samples, validate on 10000 samples\n",
            "Epoch 1/12\n",
            "60000/60000 [==============================] - 49s 820us/step - loss: 0.1746 - acc: 0.9474 - val_loss: 0.6559 - val_acc: 0.8074\n",
            "Epoch 2/12\n",
            "60000/60000 [==============================] - 45s 756us/step - loss: 0.0571 - acc: 0.9826 - val_loss: 0.9573 - val_acc: 0.7192\n",
            "Epoch 3/12\n",
            "60000/60000 [==============================] - 45s 753us/step - loss: 0.0413 - acc: 0.9870 - val_loss: 0.6679 - val_acc: 0.8027\n",
            "Epoch 4/12\n",
            "60000/60000 [==============================] - 45s 747us/step - loss: 0.0337 - acc: 0.9895 - val_loss: 1.2193 - val_acc: 0.6971\n",
            "Epoch 5/12\n",
            "60000/60000 [==============================] - 45s 751us/step - loss: 0.0307 - acc: 0.9903 - val_loss: 0.2132 - val_acc: 0.9408\n",
            "Epoch 6/12\n",
            "60000/60000 [==============================] - 45s 746us/step - loss: 0.0249 - acc: 0.9920 - val_loss: 4.0905 - val_acc: 0.3624\n",
            "Epoch 7/12\n",
            "60000/60000 [==============================] - 45s 742us/step - loss: 0.0226 - acc: 0.9928 - val_loss: 0.1832 - val_acc: 0.9460\n",
            "Epoch 8/12\n",
            "60000/60000 [==============================] - 45s 743us/step - loss: 0.0178 - acc: 0.9943 - val_loss: 0.5185 - val_acc: 0.8727\n",
            "Epoch 9/12\n",
            "60000/60000 [==============================] - 45s 747us/step - loss: 0.0169 - acc: 0.9941 - val_loss: 0.8813 - val_acc: 0.7994\n",
            "Epoch 10/12\n",
            "60000/60000 [==============================] - 45s 745us/step - loss: 0.0178 - acc: 0.9942 - val_loss: 0.1776 - val_acc: 0.9533\n",
            "Epoch 11/12\n",
            "60000/60000 [==============================] - 45s 746us/step - loss: 0.0139 - acc: 0.9953 - val_loss: 0.3146 - val_acc: 0.9165\n",
            "Epoch 12/12\n",
            "60000/60000 [==============================] - 45s 749us/step - loss: 0.0113 - acc: 0.9961 - val_loss: 0.1472 - val_acc: 0.9612\n",
            "Test loss: 0.14715414495209697\n",
            "Test accuracy: 0.9612\n"
          ],
          "name": "stdout"
        }
      ]
    },
    {
      "cell_type": "code",
      "metadata": {
        "id": "11WvqwdnwSYl",
        "colab_type": "code",
        "outputId": "6958b0fd-871f-4ee9-caa3-2304f6e67916",
        "colab": {
          "base_uri": "https://localhost:8080/",
          "height": 283
        }
      },
      "source": [
        "fig,ax = plt.subplots(1,1)\n",
        "ax.set_xlabel('epoch') ; ax.set_ylabel('Categorical Crossentropy Loss')\n",
        "\n",
        "# list of epoch numbers\n",
        "x = list(range(1,epochs+1))\n",
        "\n",
        "# val_loss : validation loss\n",
        "# val_acc : validation accuracy\n",
        "\n",
        "# loss : training loss\n",
        "# acc : train accuracy\n",
        "\n",
        "vy = history.history['val_loss']\n",
        "ty = history.history['loss']\n",
        "plt_dynamic(x, vy, ty, ax)"
      ],
      "execution_count": 0,
      "outputs": [
        {
          "output_type": "display_data",
          "data": {
            "image/png": "[encoded data removed]",
            "text/plain": [
              "<Figure size 432x288 with 1 Axes>"
            ]
          },
          "metadata": {
            "tags": []
          }
        }
      ]
    },
    {
      "cell_type": "markdown",
      "metadata": {
        "colab_type": "text",
        "id": "nLeH-rP1-8j3"
      },
      "source": [
        "<h3>3.3 with kernal_size = (5,5), Dropout = 0.3, BN and MaxPooling</h3>"
      ]
    },
    {
      "cell_type": "code",
      "metadata": {
        "colab_type": "code",
        "outputId": "9bc5c711-68a0-4651-9031-500237ecb091",
        "id": "GxOkqXVQ-8j4",
        "colab": {
          "base_uri": "https://localhost:8080/",
          "height": 508
        }
      },
      "source": [
        "model = Sequential()\n",
        "model.add(Conv2D(12, kernel_size=(5, 5),\n",
        "                 activation='relu',\n",
        "                 input_shape=input_shape))\n",
        "model.add(MaxPooling2D(pool_size=(2, 2)))\n",
        "\n",
        "model.add(Conv2D(43, (5, 5), activation='relu'))\n",
        "model.add(MaxPooling2D(pool_size=(2, 2)))\n",
        "\n",
        "model.add(Conv2D(60, (5, 5), activation='relu', padding='same'))\n",
        "model.add(MaxPooling2D(pool_size=(2, 2), padding='same'))\n",
        "\n",
        "model.add(Conv2D(85, (5, 5), activation='relu', padding='same'))\n",
        "model.add(MaxPooling2D(pool_size=(2, 2), padding='same'))\n",
        "\n",
        "model.add(Conv2D(112, (5, 5), activation='relu', padding='same'))\n",
        "model.add(MaxPooling2D(pool_size=(2, 2), padding='same'))\n",
        "\n",
        "model.add(Conv2D(143, (5, 5), activation='relu', padding='same'))\n",
        "model.add(MaxPooling2D(pool_size=(2, 2), padding='same'))\n",
        "\n",
        "model.add(Conv2D(157, (5, 5), activation='relu', padding='same'))\n",
        "model.add(MaxPooling2D(pool_size=(2, 2), padding='same'))\n",
        "\n",
        "model.add(Flatten())\n",
        "model.add(Dense(98, activation='relu'))\n",
        "model.add(Dropout(0.3))\n",
        "model.add(BatchNormalization())\n",
        "\n",
        "model.add(Dense(56, activation='relu'))\n",
        "model.add(BatchNormalization())\n",
        "model.add(Dropout(0.3))\n",
        "\n",
        "\n",
        "model.add(Dense(num_classes, activation='softmax'))\n",
        "\n",
        "model.compile(loss=keras.losses.categorical_crossentropy,\n",
        "              optimizer=keras.optimizers.Adam(),\n",
        "              metrics=['accuracy'])\n",
        "\n",
        "history = model.fit(x_train, y_train,\n",
        "          batch_size=batch_size,\n",
        "          epochs=epochs,\n",
        "          verbose=1,\n",
        "          validation_data=(x_test, y_test))\n",
        "score = model.evaluate(x_test, y_test, verbose=0)\n",
        "print('Test loss:', score[0])\n",
        "print('Test accuracy:', score[1])"
      ],
      "execution_count": 0,
      "outputs": [
        {
          "output_type": "stream",
          "text": [
            "Train on 60000 samples, validate on 10000 samples\n",
            "Epoch 1/12\n",
            "60000/60000 [==============================] - 215s 4ms/step - loss: 0.5735 - acc: 0.8168 - val_loss: 0.1044 - val_acc: 0.9725\n",
            "Epoch 2/12\n",
            "60000/60000 [==============================] - 211s 4ms/step - loss: 0.1121 - acc: 0.9726 - val_loss: 0.0711 - val_acc: 0.9831\n",
            "Epoch 3/12\n",
            "60000/60000 [==============================] - 211s 4ms/step - loss: 0.0739 - acc: 0.9814 - val_loss: 0.0470 - val_acc: 0.9873\n",
            "Epoch 4/12\n",
            "60000/60000 [==============================] - 211s 4ms/step - loss: 0.0560 - acc: 0.9859 - val_loss: 0.0749 - val_acc: 0.9805\n",
            "Epoch 5/12\n",
            "60000/60000 [==============================] - 212s 4ms/step - loss: 0.0474 - acc: 0.9877 - val_loss: 0.0456 - val_acc: 0.9883\n",
            "Epoch 6/12\n",
            "60000/60000 [==============================] - 211s 4ms/step - loss: 0.0398 - acc: 0.9901 - val_loss: 0.0426 - val_acc: 0.9889\n",
            "Epoch 7/12\n",
            "60000/60000 [==============================] - 211s 4ms/step - loss: 0.0387 - acc: 0.9904 - val_loss: 0.0446 - val_acc: 0.9879\n",
            "Epoch 8/12\n",
            "60000/60000 [==============================] - 211s 4ms/step - loss: 0.0305 - acc: 0.9922 - val_loss: 0.0417 - val_acc: 0.9893\n",
            "Epoch 9/12\n",
            "60000/60000 [==============================] - 212s 4ms/step - loss: 0.0263 - acc: 0.9932 - val_loss: 0.0385 - val_acc: 0.9906\n",
            "Epoch 10/12\n",
            "60000/60000 [==============================] - 211s 4ms/step - loss: 0.0256 - acc: 0.9932 - val_loss: 0.0400 - val_acc: 0.9901\n",
            "Epoch 11/12\n",
            "60000/60000 [==============================] - 212s 4ms/step - loss: 0.0213 - acc: 0.9948 - val_loss: 0.0449 - val_acc: 0.9902\n",
            "Epoch 12/12\n",
            "60000/60000 [==============================] - 212s 4ms/step - loss: 0.0209 - acc: 0.9946 - val_loss: 0.0652 - val_acc: 0.9856\n",
            "Test loss: 0.06518815791808301\n",
            "Test accuracy: 0.9856\n"
          ],
          "name": "stdout"
        }
      ]
    },
    {
      "cell_type": "code",
      "metadata": {
        "id": "Eil3qLE7wUs_",
        "colab_type": "code",
        "outputId": "5246d592-dc1c-4d5d-fefa-d85ac8feb3de",
        "colab": {
          "base_uri": "https://localhost:8080/",
          "height": 283
        }
      },
      "source": [
        "fig,ax = plt.subplots(1,1)\n",
        "ax.set_xlabel('epoch') ; ax.set_ylabel('Categorical Crossentropy Loss')\n",
        "\n",
        "# list of epoch numbers\n",
        "x = list(range(1,epochs+1))\n",
        "\n",
        "# val_loss : validation loss\n",
        "# val_acc : validation accuracy\n",
        "\n",
        "# loss : training loss\n",
        "# acc : train accuracy\n",
        "\n",
        "vy = history.history['val_loss']\n",
        "ty = history.history['loss']\n",
        "plt_dynamic(x, vy, ty, ax)"
      ],
      "execution_count": 0,
      "outputs": [
        {
          "output_type": "display_data",
          "data": {
            "image/png": "[encoded data removed]",
            "text/plain": [
              "<Figure size 432x288 with 1 Axes>"
            ]
          },
          "metadata": {
            "tags": []
          }
        }
      ]
    },
    {
      "cell_type": "code",
      "metadata": {
        "colab_type": "code",
        "outputId": "0f5abc68-87e1-4895-b9aa-f8c5fa331435",
        "id": "okrwsp1r-8j7",
        "colab": {
          "base_uri": "https://localhost:8080/",
          "height": 254
        }
      },
      "source": [
        "#Activation function is relu in each layers\n",
        "#Adam optimizers is used in each case\n",
        "#MaxPooling is used in each case of cnn_layers of pool_size=(2, 2)\n",
        "\n",
        "from prettytable import PrettyTable\n",
        "    \n",
        "x = PrettyTable()\n",
        "\n",
        "x.field_names = [\"No. of CNN_Layers\",\"kernal_size\",\"Batch Normalisations\",\"Dropout\",\"No. of hidden layers\", \"Test loss\", \"Test Accuracy\"]\n",
        "\n",
        "x.add_row([3, (3,3), \"No\", 0.5, 1, 0.019, 0.99])\n",
        "x.add_row([3, (2,2), \"Yes\", \"No dropout\", 1, 0.045, 0.98])\n",
        "x.add_row([3, (5,5), \"Yes\", 0.3, 2, 0.025, 0.99])\n",
        "x.add_row([5, (3,3), \"No\", 0.25, 1, 0.047, 0.98])\n",
        "x.add_row([5, (2,2), \"Yes\", \"No droput\", 3, 0.078, 0.97])\n",
        "x.add_row([5, (5,5), \"Yes\", 0.3, 3, 0.044, 0.99])\n",
        "x.add_row([7, (3,3), \"No\", 0.25, 1, 0.043, 0.98])\n",
        "x.add_row([7, (2,2), \"Yes\", \"No dropout\", 2, 0.147, 0.96])\n",
        "x.add_row([7, (5,5), \"Yes\", 0.3, 2, 0.065, 0.98])\n",
        "print(x)"
      ],
      "execution_count": 2,
      "outputs": [
        {
          "output_type": "stream",
          "text": [
            "+-------------------+-------------+----------------------+------------+----------------------+-----------+---------------+\n",
            "| No. of CNN_Layers | kernal_size | Batch Normalisations |  Dropout   | No. of hidden layers | Test loss | Test Accuracy |\n",
            "+-------------------+-------------+----------------------+------------+----------------------+-----------+---------------+\n",
            "|         3         |    (3, 3)   |          No          |    0.5     |          1           |   0.019   |      0.99     |\n",
            "|         3         |    (2, 2)   |         Yes          | No dropout |          1           |   0.045   |      0.98     |\n",
            "|         3         |    (5, 5)   |         Yes          |    0.3     |          2           |   0.025   |      0.99     |\n",
            "|         5         |    (3, 3)   |          No          |    0.25    |          1           |   0.047   |      0.98     |\n",
            "|         5         |    (2, 2)   |         Yes          | No droput  |          3           |   0.078   |      0.97     |\n",
            "|         5         |    (5, 5)   |         Yes          |    0.3     |          3           |   0.044   |      0.99     |\n",
            "|         7         |    (3, 3)   |          No          |    0.25    |          1           |   0.043   |      0.98     |\n",
            "|         7         |    (2, 2)   |         Yes          | No dropout |          2           |   0.147   |      0.96     |\n",
            "|         7         |    (5, 5)   |         Yes          |    0.3     |          2           |   0.065   |      0.98     |\n",
            "+-------------------+-------------+----------------------+------------+----------------------+-----------+---------------+\n"
          ],
          "name": "stdout"
        }
      ]
    },
    {
      "cell_type": "markdown",
      "metadata": {
        "id": "1w0cfawfpl7_",
        "colab_type": "text"
      },
      "source": [
        "<h2> step by step procedure for above experiment</h2>"
      ]
    },
    {
      "cell_type": "markdown",
      "metadata": {
        "colab_type": "text",
        "id": "iJCY34aX66v8"
      },
      "source": [
        "1.Three different architecture of convolution layer has been implemented.There are three , five and seven convolution layers with \"**Adam optimizers**\" in each case\n",
        "\n",
        "2.**First architecture i.e. three convolution layer** has been further experimented in three more categories.\n",
        "\n",
        "3.In each categories, with different kernal size, dropout and maxpooling experiment has been performed\n",
        "\n",
        "4.For the first categories kernal size is (3,3), dropout=0.5 and maxpoolsize=(3,3).\n",
        "\n",
        "5.For the second categories kernal size is(2,2), same maxpooling as above with bathnormalisation and with no dropout experiment has been performed.\n",
        "\n",
        "6.For the third categories kernal size is(5,5), same maxpooling with bathnormalisation and dropout= 0.3 experiment has been performed.\n",
        "\n",
        "7.for each categories test score and test accuracy has been evaluated with different parameter.\n",
        "\n",
        "\n",
        "8.**Second architecture (i.e. five convolution layer)** has been further experimented in three more categories in the same way as first architecture.\n",
        "\n",
        "9.In each categories, with different kernal size, dropout and maxpooling experiment has been performed\n",
        "\n",
        "10.For the first categories kernal size is (3,3), dropout=0.25 and maxpoolsize=(3,3).\n",
        "\n",
        "11.For the second categories kernal size is(2,2), same maxpooling as above with bathnormalisation and with no dropout experiment has been performed.\n",
        "\n",
        "12.For the third categories kernal size is(5,5), same maxpooling with bathnormalisation and dropout= 0.3 experiment has been performed.\n",
        "\n",
        "13.for each categories test score and test accuracy has been evaluated with different parameter.\n",
        "\n",
        "\n",
        "14.**Third architecture (i.e. Seven convolution layer)** has been further experimented in three more categories in the same way as first and second architecture.\n",
        "\n",
        "15.In each categories, with different kernal size, dropout and maxpooling experiment has been performed\n",
        "\n",
        "16.For the first categories kernal size is (3,3), dropout=0.25 and maxpoolsize=(3,3).\n",
        "\n",
        "17.For the second categories kernal size is(2,2), same maxpooling as above with bathnormalisation and with no dropout experiment has been performed.\n",
        "\n",
        "18.For the third categories kernal size is(5,5), same maxpooling with bathnormalisation and dropout= 0.3 experiment has been performed.\n",
        "\n",
        "19.for each categories test score and test accuracy has been evaluated with different parameter.\n",
        "\n",
        "20.see the **preetytable** to observe the different result in different case "
      ]
    },
    {
      "cell_type": "markdown",
      "metadata": {
        "colab_type": "text",
        "id": "2r_4F_Z9_Qbt"
      },
      "source": [
        "<h2>MODEL1 : Three Convolutional Network with RMSprop as optimizer</h2>"
      ]
    },
    {
      "cell_type": "markdown",
      "metadata": {
        "colab_type": "text",
        "id": "XTCw0Dse_Qbw"
      },
      "source": [
        "<h3>1.1 with kernal_size = (3,3), Dropout = 0.5 and MaxPooling(pool_size =(2,2))"
      ]
    },
    {
      "cell_type": "code",
      "metadata": {
        "colab_type": "code",
        "outputId": "838c3a53-ee18-4dc3-9dfd-c0f0c5150d8e",
        "id": "CF86cQxG_Qby",
        "colab": {
          "base_uri": "https://localhost:8080/",
          "height": 508
        }
      },
      "source": [
        "model = Sequential()\n",
        "model.add(Conv2D(32, kernel_size=(3, 3),\n",
        "                 activation='relu',\n",
        "                 input_shape=input_shape))\n",
        "\n",
        "model.add(Conv2D(64, (3, 3), activation='relu'))\n",
        "model.add(MaxPooling2D(pool_size=(2, 2)))\n",
        "\n",
        "model.add(Conv2D(96, (3, 3), activation='relu'))\n",
        "model.add(MaxPooling2D(pool_size=(2, 2)))\n",
        "\n",
        "model.add(Flatten())\n",
        "model.add(Dense(75, activation='relu'))\n",
        "model.add(Dropout(0.5))\n",
        "model.add(Dense(num_classes, activation='softmax'))\n",
        "\n",
        "model.compile(loss=keras.losses.categorical_crossentropy,\n",
        "              optimizer=keras.optimizers.RMSprop(),\n",
        "              metrics=['accuracy'])\n",
        "\n",
        "history = model.fit(x_train, y_train,\n",
        "          batch_size=batch_size,\n",
        "          epochs=epochs,\n",
        "          verbose=1,\n",
        "          validation_data=(x_test, y_test))\n",
        "score = model.evaluate(x_test, y_test, verbose=0)\n",
        "print('Test loss:', score[0])\n",
        "print('Test accuracy:', score[1])"
      ],
      "execution_count": 0,
      "outputs": [
        {
          "output_type": "stream",
          "text": [
            "Train on 60000 samples, validate on 10000 samples\n",
            "Epoch 1/12\n",
            "60000/60000 [==============================] - 183s 3ms/step - loss: 0.2702 - acc: 0.9158 - val_loss: 0.0478 - val_acc: 0.9850\n",
            "Epoch 2/12\n",
            "60000/60000 [==============================] - 179s 3ms/step - loss: 0.0852 - acc: 0.9754 - val_loss: 0.0388 - val_acc: 0.9871\n",
            "Epoch 3/12\n",
            "60000/60000 [==============================] - 178s 3ms/step - loss: 0.0597 - acc: 0.9833 - val_loss: 0.0291 - val_acc: 0.9910\n",
            "Epoch 4/12\n",
            "60000/60000 [==============================] - 178s 3ms/step - loss: 0.0484 - acc: 0.9860 - val_loss: 0.0252 - val_acc: 0.9924\n",
            "Epoch 5/12\n",
            "60000/60000 [==============================] - 178s 3ms/step - loss: 0.0420 - acc: 0.9882 - val_loss: 0.0302 - val_acc: 0.9907\n",
            "Epoch 6/12\n",
            "60000/60000 [==============================] - 178s 3ms/step - loss: 0.0377 - acc: 0.9895 - val_loss: 0.0255 - val_acc: 0.9916\n",
            "Epoch 7/12\n",
            "60000/60000 [==============================] - 178s 3ms/step - loss: 0.0367 - acc: 0.9899 - val_loss: 0.0224 - val_acc: 0.9937\n",
            "Epoch 8/12\n",
            "60000/60000 [==============================] - 178s 3ms/step - loss: 0.0370 - acc: 0.9901 - val_loss: 0.0269 - val_acc: 0.9924\n",
            "Epoch 9/12\n",
            "60000/60000 [==============================] - 178s 3ms/step - loss: 0.0351 - acc: 0.9901 - val_loss: 0.0240 - val_acc: 0.9923\n",
            "Epoch 10/12\n",
            "60000/60000 [==============================] - 178s 3ms/step - loss: 0.0361 - acc: 0.9905 - val_loss: 0.0308 - val_acc: 0.9919\n",
            "Epoch 11/12\n",
            "60000/60000 [==============================] - 178s 3ms/step - loss: 0.0348 - acc: 0.9904 - val_loss: 0.0310 - val_acc: 0.9922\n",
            "Epoch 12/12\n",
            "60000/60000 [==============================] - 178s 3ms/step - loss: 0.0343 - acc: 0.9906 - val_loss: 0.0264 - val_acc: 0.9929\n",
            "Test loss: 0.026416385893837605\n",
            "Test accuracy: 0.9929\n"
          ],
          "name": "stdout"
        }
      ]
    },
    {
      "cell_type": "code",
      "metadata": {
        "id": "-rj9G2NNwdoc",
        "colab_type": "code",
        "outputId": "cfd6b241-a0b2-4d32-e1ea-c725b78ee9e5",
        "colab": {
          "base_uri": "https://localhost:8080/",
          "height": 283
        }
      },
      "source": [
        "fig,ax = plt.subplots(1,1)\n",
        "ax.set_xlabel('epoch') ; ax.set_ylabel('Categorical Crossentropy Loss')\n",
        "\n",
        "# list of epoch numbers\n",
        "x = list(range(1,epochs+1))\n",
        "\n",
        "# val_loss : validation loss\n",
        "# val_acc : validation accuracy\n",
        "\n",
        "# loss : training loss\n",
        "# acc : train accuracy\n",
        "\n",
        "vy = history.history['val_loss']\n",
        "ty = history.history['loss']\n",
        "plt_dynamic(x, vy, ty, ax)"
      ],
      "execution_count": 0,
      "outputs": [
        {
          "output_type": "display_data",
          "data": {
            "image/png": "[encoded data removed]",
            "text/plain": [
              "<Figure size 432x288 with 1 Axes>"
            ]
          },
          "metadata": {
            "tags": []
          }
        }
      ]
    },
    {
      "cell_type": "markdown",
      "metadata": {
        "colab_type": "text",
        "id": "sf43I4Wq_Qb5"
      },
      "source": [
        "<h3>1.2 with kernal_size = (2,2), BN and MaxPooling</h3>"
      ]
    },
    {
      "cell_type": "code",
      "metadata": {
        "colab_type": "code",
        "outputId": "9f7de934-a0ce-4aab-a53c-5e35ab9fe5bc",
        "id": "DYfLThkA_Qb7",
        "colab": {
          "base_uri": "https://localhost:8080/",
          "height": 508
        }
      },
      "source": [
        "model = Sequential()\n",
        "model.add(Conv2D(22, kernel_size=(2, 2),\n",
        "                 activation='relu',\n",
        "                 input_shape=input_shape))\n",
        "model.add(MaxPooling2D(pool_size=(2, 2)))\n",
        "\n",
        "model.add(Conv2D(44, (2, 2), activation='relu'))\n",
        "model.add(MaxPooling2D(pool_size=(2, 2)))\n",
        "\n",
        "model.add(Conv2D(66, (2, 2), activation='relu'))\n",
        "model.add(MaxPooling2D(pool_size=(2, 2)))\n",
        "\n",
        "model.add(Flatten())\n",
        "model.add(BatchNormalization())\n",
        "model.add(Dense(128, activation='relu'))\n",
        "model.add(BatchNormalization())\n",
        "model.add(Dense(num_classes, activation='softmax'))\n",
        "\n",
        "model.compile(loss=keras.losses.categorical_crossentropy,\n",
        "              optimizer=keras.optimizers.RMSprop(),\n",
        "              metrics=['accuracy'])\n",
        "\n",
        "history = model.fit(x_train, y_train,\n",
        "          batch_size=batch_size,\n",
        "          epochs=epochs,\n",
        "          verbose=1,\n",
        "          validation_data=(x_test, y_test))\n",
        "score = model.evaluate(x_test, y_test, verbose=0)\n",
        "print('Test loss:', score[0])\n",
        "print('Test accuracy:', score[1])"
      ],
      "execution_count": 0,
      "outputs": [
        {
          "output_type": "stream",
          "text": [
            "Train on 60000 samples, validate on 10000 samples\n",
            "Epoch 1/12\n",
            "60000/60000 [==============================] - 38s 639us/step - loss: 0.1467 - acc: 0.9554 - val_loss: 0.1191 - val_acc: 0.9636\n",
            "Epoch 2/12\n",
            "60000/60000 [==============================] - 34s 568us/step - loss: 0.0515 - acc: 0.9841 - val_loss: 0.0580 - val_acc: 0.9826\n",
            "Epoch 3/12\n",
            "60000/60000 [==============================] - 34s 570us/step - loss: 0.0360 - acc: 0.9892 - val_loss: 0.0840 - val_acc: 0.9747\n",
            "Epoch 4/12\n",
            "60000/60000 [==============================] - 34s 568us/step - loss: 0.0281 - acc: 0.9911 - val_loss: 0.0596 - val_acc: 0.9822\n",
            "Epoch 5/12\n",
            "60000/60000 [==============================] - 34s 566us/step - loss: 0.0218 - acc: 0.9932 - val_loss: 0.0499 - val_acc: 0.9846\n",
            "Epoch 6/12\n",
            "60000/60000 [==============================] - 34s 568us/step - loss: 0.0179 - acc: 0.9943 - val_loss: 0.0514 - val_acc: 0.9849\n",
            "Epoch 7/12\n",
            "60000/60000 [==============================] - 34s 568us/step - loss: 0.0146 - acc: 0.9951 - val_loss: 0.0488 - val_acc: 0.9861\n",
            "Epoch 8/12\n",
            "60000/60000 [==============================] - 34s 567us/step - loss: 0.0125 - acc: 0.9958 - val_loss: 0.0473 - val_acc: 0.9862\n",
            "Epoch 9/12\n",
            "60000/60000 [==============================] - 34s 568us/step - loss: 0.0100 - acc: 0.9968 - val_loss: 0.0515 - val_acc: 0.9857\n",
            "Epoch 10/12\n",
            "60000/60000 [==============================] - 34s 569us/step - loss: 0.0098 - acc: 0.9965 - val_loss: 0.0507 - val_acc: 0.9868\n",
            "Epoch 11/12\n",
            "60000/60000 [==============================] - 34s 568us/step - loss: 0.0076 - acc: 0.9975 - val_loss: 0.0622 - val_acc: 0.9826\n",
            "Epoch 12/12\n",
            "60000/60000 [==============================] - 34s 572us/step - loss: 0.0068 - acc: 0.9978 - val_loss: 0.0746 - val_acc: 0.9806\n",
            "Test loss: 0.0746201684974978\n",
            "Test accuracy: 0.9806\n"
          ],
          "name": "stdout"
        }
      ]
    },
    {
      "cell_type": "code",
      "metadata": {
        "id": "bAjULP1KwfjS",
        "colab_type": "code",
        "outputId": "766a8b30-87aa-4293-f2b7-6c3c09503716",
        "colab": {
          "base_uri": "https://localhost:8080/",
          "height": 283
        }
      },
      "source": [
        "fig,ax = plt.subplots(1,1)\n",
        "ax.set_xlabel('epoch') ; ax.set_ylabel('Categorical Crossentropy Loss')\n",
        "\n",
        "# list of epoch numbers\n",
        "x = list(range(1,epochs+1))\n",
        "\n",
        "# val_loss : validation loss\n",
        "# val_acc : validation accuracy\n",
        "\n",
        "# loss : training loss\n",
        "# acc : train accuracy\n",
        "\n",
        "vy = history.history['val_loss']\n",
        "ty = history.history['loss']\n",
        "plt_dynamic(x, vy, ty, ax)"
      ],
      "execution_count": 0,
      "outputs": [
        {
          "output_type": "display_data",
          "data": {
            "image/png": "[encoded data removed]",
            "text/plain": [
              "<Figure size 432x288 with 1 Axes>"
            ]
          },
          "metadata": {
            "tags": []
          }
        }
      ]
    },
    {
      "cell_type": "markdown",
      "metadata": {
        "colab_type": "text",
        "id": "uJXag-7u_QcF"
      },
      "source": [
        "<h3>1.3 with kernal_size = (5,5), Dropout = 0.3, BN and MaxPooling</h3>"
      ]
    },
    {
      "cell_type": "code",
      "metadata": {
        "colab_type": "code",
        "outputId": "630e790d-5162-4ad9-c0d2-c48bed03001e",
        "id": "zjMjCT0k_QcH",
        "colab": {
          "base_uri": "https://localhost:8080/",
          "height": 508
        }
      },
      "source": [
        "model = Sequential()\n",
        "model.add(Conv2D(44, kernel_size=(5, 5),\n",
        "                 activation='relu',\n",
        "                 input_shape=input_shape))\n",
        "model.add(MaxPooling2D(pool_size=(2, 2)))\n",
        "\n",
        "model.add(Conv2D(89, (5, 5), activation='relu'))\n",
        "model.add(MaxPooling2D(pool_size=(2, 2)))\n",
        "\n",
        "model.add(Conv2D(165, (5, 5), activation='relu', padding='same'))\n",
        "model.add(MaxPooling2D(pool_size=(2, 2)))\n",
        "\n",
        "model.add(Flatten())\n",
        "model.add(Dense(128, activation='relu'))\n",
        "model.add(BatchNormalization())\n",
        "model.add(Dropout(0.3))\n",
        "\n",
        "model.add(Dense(97, activation='relu'))\n",
        "model.add(BatchNormalization())\n",
        "model.add(Dropout(0.3))\n",
        "\n",
        "model.add(Dense(num_classes, activation='softmax'))\n",
        "\n",
        "model.compile(loss=keras.losses.categorical_crossentropy,\n",
        "              optimizer=keras.optimizers.RMSprop(),\n",
        "              metrics=['accuracy'])\n",
        "\n",
        "history = model.fit(x_train, y_train,\n",
        "          batch_size=batch_size,\n",
        "          epochs=epochs,\n",
        "          verbose=1,\n",
        "          validation_data=(x_test, y_test))\n",
        "score = model.evaluate(x_test, y_test, verbose=0)\n",
        "print('Test loss:', score[0])\n",
        "print('Test accuracy:', score[1])"
      ],
      "execution_count": 0,
      "outputs": [
        {
          "output_type": "stream",
          "text": [
            "Train on 60000 samples, validate on 10000 samples\n",
            "Epoch 1/12\n",
            "60000/60000 [==============================] - 195s 3ms/step - loss: 1.0009 - acc: 0.6653 - val_loss: 3.8346 - val_acc: 0.3946\n",
            "Epoch 2/12\n",
            "60000/60000 [==============================] - 191s 3ms/step - loss: 0.4697 - acc: 0.8464 - val_loss: 1.8055 - val_acc: 0.5506\n",
            "Epoch 3/12\n",
            "60000/60000 [==============================] - 190s 3ms/step - loss: 0.3592 - acc: 0.8845 - val_loss: 0.3017 - val_acc: 0.9077\n",
            "Epoch 4/12\n",
            "60000/60000 [==============================] - 189s 3ms/step - loss: 0.2422 - acc: 0.9255 - val_loss: 0.1909 - val_acc: 0.9426\n",
            "Epoch 5/12\n",
            "60000/60000 [==============================] - 188s 3ms/step - loss: 0.1920 - acc: 0.9413 - val_loss: 0.3387 - val_acc: 0.9023\n",
            "Epoch 6/12\n",
            "60000/60000 [==============================] - 189s 3ms/step - loss: 0.1515 - acc: 0.9537 - val_loss: 0.8797 - val_acc: 0.7712\n",
            "Epoch 7/12\n",
            "60000/60000 [==============================] - 192s 3ms/step - loss: 0.1412 - acc: 0.9584 - val_loss: 0.3180 - val_acc: 0.9071\n",
            "Epoch 8/12\n",
            "60000/60000 [==============================] - 193s 3ms/step - loss: 0.1341 - acc: 0.9601 - val_loss: 1.0845 - val_acc: 0.7558\n",
            "Epoch 9/12\n",
            "60000/60000 [==============================] - 192s 3ms/step - loss: 0.1196 - acc: 0.9643 - val_loss: 0.1963 - val_acc: 0.9442\n",
            "Epoch 10/12\n",
            "60000/60000 [==============================] - 194s 3ms/step - loss: 0.1096 - acc: 0.9672 - val_loss: 0.1150 - val_acc: 0.9621\n",
            "Epoch 11/12\n",
            "60000/60000 [==============================] - 193s 3ms/step - loss: 0.1006 - acc: 0.9697 - val_loss: 0.3534 - val_acc: 0.8884\n",
            "Epoch 12/12\n",
            "60000/60000 [==============================] - 189s 3ms/step - loss: 0.0934 - acc: 0.9713 - val_loss: 0.1269 - val_acc: 0.9603\n",
            "Test loss: 0.12685609666118397\n",
            "Test accuracy: 0.9603\n"
          ],
          "name": "stdout"
        }
      ]
    },
    {
      "cell_type": "code",
      "metadata": {
        "id": "HLNh9pm7whZB",
        "colab_type": "code",
        "outputId": "f39536d5-b56e-492c-c899-b31e0af8dfbb",
        "colab": {
          "base_uri": "https://localhost:8080/",
          "height": 283
        }
      },
      "source": [
        "fig,ax = plt.subplots(1,1)\n",
        "ax.set_xlabel('epoch') ; ax.set_ylabel('Categorical Crossentropy Loss')\n",
        "\n",
        "# list of epoch numbers\n",
        "x = list(range(1,epochs+1))\n",
        "\n",
        "# val_loss : validation loss\n",
        "# val_acc : validation accuracy\n",
        "\n",
        "# loss : training loss\n",
        "# acc : train accuracy\n",
        "\n",
        "vy = history.history['val_loss']\n",
        "ty = history.history['loss']\n",
        "plt_dynamic(x, vy, ty, ax)"
      ],
      "execution_count": 0,
      "outputs": [
        {
          "output_type": "display_data",
          "data": {
            "image/png": "[encoded data removed]",
            "text/plain": [
              "<Figure size 432x288 with 1 Axes>"
            ]
          },
          "metadata": {
            "tags": []
          }
        }
      ]
    },
    {
      "cell_type": "markdown",
      "metadata": {
        "colab_type": "text",
        "id": "W_QrPtGl_QcN"
      },
      "source": [
        "<h2>MODEL2 : Five Convolutional Network with RMSprop as optimizer</h2>"
      ]
    },
    {
      "cell_type": "markdown",
      "metadata": {
        "colab_type": "text",
        "id": "oD9qTBir_QcN"
      },
      "source": [
        "<h3>2.1 with kernal_size = (3,3), Dropout = 0.25 and MaxPooling(pool_size =(3,3))"
      ]
    },
    {
      "cell_type": "code",
      "metadata": {
        "colab_type": "code",
        "outputId": "e5091987-a0f5-4df3-9b33-d552f032108c",
        "id": "WU-kxXYU_QcO",
        "colab": {
          "base_uri": "https://localhost:8080/",
          "height": 508
        }
      },
      "source": [
        "model = Sequential()\n",
        "model.add(Conv2D(25, kernel_size=(3, 3), activation='relu',input_shape=input_shape))\n",
        "model.add(MaxPooling2D(pool_size=(2, 2)))\n",
        "\n",
        "model.add(Conv2D(55, (3, 3), activation='relu'))\n",
        "model.add(MaxPooling2D(pool_size=(2, 2)))\n",
        "\n",
        "model.add(Conv2D(78, (3, 3), activation='relu'))\n",
        "model.add(MaxPooling2D(pool_size=(2, 2)))\n",
        "\n",
        "model.add(Conv2D(96, (3, 3), activation='relu', padding='same'))\n",
        "model.add(MaxPooling2D(pool_size=(2, 2), padding='same'))\n",
        "\n",
        "model.add(Conv2D(108, (3, 3), activation='relu', padding='same'))\n",
        "model.add(MaxPooling2D(pool_size=(2, 2), padding='same'))\n",
        "\n",
        "model.add(Flatten())\n",
        "model.add(Dense(128, activation='relu'))\n",
        "model.add(Dropout(0.25))\n",
        "model.add(Dense(num_classes, activation='softmax'))\n",
        "\n",
        "model.compile(loss=keras.losses.categorical_crossentropy,\n",
        "              optimizer=keras.optimizers.RMSprop(),\n",
        "              metrics=['accuracy'])\n",
        "\n",
        "history = model.fit(x_train, y_train,\n",
        "          batch_size=batch_size,\n",
        "          epochs=epochs,\n",
        "          verbose=1,\n",
        "          validation_data=(x_test, y_test))\n",
        "score = model.evaluate(x_test, y_test, verbose=0)\n",
        "print('Test loss:', score[0])\n",
        "print('Test accuracy:', score[1])"
      ],
      "execution_count": 0,
      "outputs": [
        {
          "output_type": "stream",
          "text": [
            "Train on 60000 samples, validate on 10000 samples\n",
            "Epoch 1/12\n",
            "60000/60000 [==============================] - 54s 900us/step - loss: 0.8243 - acc: 0.7197 - val_loss: 0.7556 - val_acc: 0.8198\n",
            "Epoch 2/12\n",
            "60000/60000 [==============================] - 50s 834us/step - loss: 0.3361 - acc: 0.9033 - val_loss: 0.3976 - val_acc: 0.8882\n",
            "Epoch 3/12\n",
            "60000/60000 [==============================] - 50s 834us/step - loss: 0.4302 - acc: 0.8970 - val_loss: 0.3611 - val_acc: 0.9197\n",
            "Epoch 4/12\n",
            "60000/60000 [==============================] - 50s 836us/step - loss: 0.5801 - acc: 0.8971 - val_loss: 0.9266 - val_acc: 0.8555\n",
            "Epoch 5/12\n",
            "60000/60000 [==============================] - 50s 833us/step - loss: 1.3400 - acc: 0.8779 - val_loss: 3.6306 - val_acc: 0.7680\n",
            "Epoch 6/12\n",
            "60000/60000 [==============================] - 49s 822us/step - loss: 3.5538 - acc: 0.7767 - val_loss: 3.5029 - val_acc: 0.7813\n",
            "Epoch 7/12\n",
            "60000/60000 [==============================] - 50s 829us/step - loss: 5.9515 - acc: 0.6299 - val_loss: 11.6605 - val_acc: 0.2759\n",
            "Epoch 8/12\n",
            "60000/60000 [==============================] - 49s 824us/step - loss: 7.9589 - acc: 0.5059 - val_loss: 7.1494 - val_acc: 0.5562\n",
            "Epoch 9/12\n",
            "60000/60000 [==============================] - 49s 816us/step - loss: 9.2002 - acc: 0.4290 - val_loss: 10.7258 - val_acc: 0.3342\n",
            "Epoch 10/12\n",
            "60000/60000 [==============================] - 49s 820us/step - loss: 11.3325 - acc: 0.2968 - val_loss: 11.5988 - val_acc: 0.2803\n",
            "Epoch 11/12\n",
            "60000/60000 [==============================] - 49s 818us/step - loss: 10.7564 - acc: 0.3326 - val_loss: 11.5162 - val_acc: 0.2854\n",
            "Epoch 12/12\n",
            "60000/60000 [==============================] - 49s 815us/step - loss: 12.7129 - acc: 0.2112 - val_loss: 13.5779 - val_acc: 0.1576\n",
            "Test loss: 13.57788892364502\n",
            "Test accuracy: 0.1576\n"
          ],
          "name": "stdout"
        }
      ]
    },
    {
      "cell_type": "code",
      "metadata": {
        "id": "afRQwrs7wi33",
        "colab_type": "code",
        "outputId": "b2f23c35-2c59-4412-b0b2-243eeb45243c",
        "colab": {
          "base_uri": "https://localhost:8080/",
          "height": 283
        }
      },
      "source": [
        "fig,ax = plt.subplots(1,1)\n",
        "ax.set_xlabel('epoch') ; ax.set_ylabel('Categorical Crossentropy Loss')\n",
        "\n",
        "# list of epoch numbers\n",
        "x = list(range(1,epochs+1))\n",
        "\n",
        "# val_loss : validation loss\n",
        "# val_acc : validation accuracy\n",
        "\n",
        "# loss : training loss\n",
        "# acc : train accuracy\n",
        "\n",
        "vy = history.history['val_loss']\n",
        "ty = history.history['loss']\n",
        "plt_dynamic(x, vy, ty, ax)"
      ],
      "execution_count": 0,
      "outputs": [
        {
          "output_type": "display_data",
          "data": {
            "image/png": "[encoded data removed]",
            "text/plain": [
              "<Figure size 432x288 with 1 Axes>"
            ]
          },
          "metadata": {
            "tags": []
          }
        }
      ]
    },
    {
      "cell_type": "markdown",
      "metadata": {
        "colab_type": "text",
        "id": "u4uXe3fz_QcS"
      },
      "source": [
        "<h3>2.2 with kernal_size = (2,2), BN and MaxPooling</h3>"
      ]
    },
    {
      "cell_type": "code",
      "metadata": {
        "colab_type": "code",
        "outputId": "6d37a386-2417-4072-a0d2-278f014f83a6",
        "id": "QFDAlRwf_QcU",
        "colab": {
          "base_uri": "https://localhost:8080/",
          "height": 508
        }
      },
      "source": [
        "model = Sequential()\n",
        "model.add(Conv2D(29, kernel_size=(2, 2),\n",
        "                 activation='relu',\n",
        "                 input_shape=input_shape))\n",
        "model.add(MaxPooling2D(pool_size=(2, 2)))\n",
        "\n",
        "model.add(Conv2D(38, (2, 2), activation='relu', padding='same'))\n",
        "model.add(MaxPooling2D(pool_size=(2, 2), padding='same'))\n",
        "\n",
        "model.add(Conv2D(49, (2, 2), activation='relu', padding='same'))\n",
        "model.add(MaxPooling2D(pool_size=(2, 2), padding='same'))\n",
        "\n",
        "model.add(Conv2D(65, (2, 2), activation='relu', padding='same'))\n",
        "model.add(MaxPooling2D(pool_size=(2, 2), padding='same'))\n",
        "\n",
        "model.add(Conv2D(85, (2, 2), activation='relu', padding='same'))\n",
        "model.add(MaxPooling2D(pool_size=(2, 2), padding='same'))\n",
        "\n",
        "model.add(Flatten())\n",
        "model.add(Dense(133, activation='relu'))\n",
        "model.add(BatchNormalization())\n",
        "\n",
        "model.add(Dense(95, activation='relu'))\n",
        "model.add(BatchNormalization())\n",
        "\n",
        "model.add(Dense(76, activation='relu'))\n",
        "model.add(BatchNormalization())\n",
        "\n",
        "model.add(Dense(num_classes, activation='softmax'))\n",
        "\n",
        "model.compile(loss=keras.losses.categorical_crossentropy,\n",
        "              optimizer=keras.optimizers.RMSprop(),\n",
        "              metrics=['accuracy'])\n",
        "\n",
        "history = model.fit(x_train, y_train,\n",
        "          batch_size=batch_size,\n",
        "          epochs=epochs,\n",
        "          verbose=1,\n",
        "          validation_data=(x_test, y_test))\n",
        "score = model.evaluate(x_test, y_test, verbose=0)\n",
        "print('Test loss:', score[0])\n",
        "print('Test accuracy:', score[1])"
      ],
      "execution_count": 0,
      "outputs": [
        {
          "output_type": "stream",
          "text": [
            "Train on 60000 samples, validate on 10000 samples\n",
            "Epoch 1/12\n",
            "60000/60000 [==============================] - 50s 840us/step - loss: 0.1994 - acc: 0.9389 - val_loss: 1.0779 - val_acc: 0.7011\n",
            "Epoch 2/12\n",
            "60000/60000 [==============================] - 46s 761us/step - loss: 0.0684 - acc: 0.9791 - val_loss: 0.2030 - val_acc: 0.9359\n",
            "Epoch 3/12\n",
            "60000/60000 [==============================] - 46s 762us/step - loss: 0.0495 - acc: 0.9851 - val_loss: 1.3340 - val_acc: 0.6433\n",
            "Epoch 4/12\n",
            "60000/60000 [==============================] - 46s 765us/step - loss: 0.0399 - acc: 0.9873 - val_loss: 0.1545 - val_acc: 0.9549\n",
            "Epoch 5/12\n",
            "60000/60000 [==============================] - 46s 769us/step - loss: 0.0350 - acc: 0.9886 - val_loss: 0.3375 - val_acc: 0.8983\n",
            "Epoch 6/12\n",
            "60000/60000 [==============================] - 46s 767us/step - loss: 0.0287 - acc: 0.9910 - val_loss: 0.3413 - val_acc: 0.9106\n",
            "Epoch 7/12\n",
            "60000/60000 [==============================] - 46s 763us/step - loss: 0.0253 - acc: 0.9918 - val_loss: 0.2752 - val_acc: 0.9181\n",
            "Epoch 8/12\n",
            "60000/60000 [==============================] - 46s 764us/step - loss: 0.0230 - acc: 0.9926 - val_loss: 0.0723 - val_acc: 0.9766\n",
            "Epoch 9/12\n",
            "60000/60000 [==============================] - 46s 760us/step - loss: 0.0201 - acc: 0.9935 - val_loss: 0.2592 - val_acc: 0.9402\n",
            "Epoch 10/12\n",
            "60000/60000 [==============================] - 46s 759us/step - loss: 0.0180 - acc: 0.9942 - val_loss: 0.0851 - val_acc: 0.9749\n",
            "Epoch 11/12\n",
            "60000/60000 [==============================] - 46s 763us/step - loss: 0.0172 - acc: 0.9943 - val_loss: 0.1641 - val_acc: 0.9504\n",
            "Epoch 12/12\n",
            "60000/60000 [==============================] - 46s 761us/step - loss: 0.0152 - acc: 0.9951 - val_loss: 0.4397 - val_acc: 0.8979\n",
            "Test loss: 0.4397493788525462\n",
            "Test accuracy: 0.8979\n"
          ],
          "name": "stdout"
        }
      ]
    },
    {
      "cell_type": "code",
      "metadata": {
        "id": "QzGJEeXBwkuW",
        "colab_type": "code",
        "outputId": "b761d3bb-d193-455b-a8c4-8a93cc91c01c",
        "colab": {
          "base_uri": "https://localhost:8080/",
          "height": 283
        }
      },
      "source": [
        "fig,ax = plt.subplots(1,1)\n",
        "ax.set_xlabel('epoch') ; ax.set_ylabel('Categorical Crossentropy Loss')\n",
        "\n",
        "# list of epoch numbers\n",
        "x = list(range(1,epochs+1))\n",
        "\n",
        "# val_loss : validation loss\n",
        "# val_acc : validation accuracy\n",
        "\n",
        "# loss : training loss\n",
        "# acc : train accuracy\n",
        "\n",
        "vy = history.history['val_loss']\n",
        "ty = history.history['loss']\n",
        "plt_dynamic(x, vy, ty, ax)"
      ],
      "execution_count": 0,
      "outputs": [
        {
          "output_type": "display_data",
          "data": {
            "image/png": "[encoded data removed]",
            "text/plain": [
              "<Figure size 432x288 with 1 Axes>"
            ]
          },
          "metadata": {
            "tags": []
          }
        }
      ]
    },
    {
      "cell_type": "markdown",
      "metadata": {
        "colab_type": "text",
        "id": "bJ74Y8ok_QcX"
      },
      "source": [
        "<h3>2.3 with kernal_size = (5,5), Dropout = 0.3, BN and MaxPooling</h3>"
      ]
    },
    {
      "cell_type": "code",
      "metadata": {
        "colab_type": "code",
        "outputId": "ce5cd365-baae-4c1f-e6b3-4e2fcf719d1d",
        "id": "jD70IKZ2_QcY",
        "colab": {
          "base_uri": "https://localhost:8080/",
          "height": 508
        }
      },
      "source": [
        "model = Sequential()\n",
        "model.add(Conv2D(22, kernel_size=(5, 5),\n",
        "                 activation='relu',\n",
        "                 input_shape=input_shape))\n",
        "model.add(MaxPooling2D(pool_size=(2, 2)))\n",
        "\n",
        "model.add(Conv2D(43, (5, 5), activation='relu', padding='same'))\n",
        "model.add(MaxPooling2D(pool_size=(2, 2), padding='same'))\n",
        "\n",
        "model.add(Conv2D(78, (5, 5), activation='relu', padding='same'))\n",
        "model.add(MaxPooling2D(pool_size=(2, 2), padding='same'))\n",
        "\n",
        "model.add(Conv2D(93, (5, 5), activation='relu', padding='same'))\n",
        "model.add(MaxPooling2D(pool_size=(2, 2), padding='same'))\n",
        "\n",
        "model.add(Conv2D(117, (5, 5), activation='relu', padding='same'))\n",
        "model.add(MaxPooling2D(pool_size=(2, 2), padding='same'))\n",
        "\n",
        "model.add(Flatten())\n",
        "model.add(Dropout(0.3))\n",
        "model.add(Dense(86, activation='relu'))\n",
        "model.add(Dropout(0.3))\n",
        "model.add(Dense(65, activation='relu'))\n",
        "model.add(Dropout(0.3))\n",
        "model.add(Dense(45, activation='relu'))\n",
        "model.add(Dropout(0.3))\n",
        "model.add(Dense(num_classes, activation='softmax'))\n",
        "\n",
        "model.compile(loss=keras.losses.categorical_crossentropy,\n",
        "              optimizer=keras.optimizers.RMSprop(),\n",
        "              metrics=['accuracy'])\n",
        "\n",
        "history = model.fit(x_train, y_train,\n",
        "          batch_size=batch_size,\n",
        "          epochs=epochs,\n",
        "          verbose=1,\n",
        "          validation_data=(x_test, y_test))\n",
        "score = model.evaluate(x_test, y_test, verbose=0)\n",
        "print('Test loss:', score[0])\n",
        "print('Test accuracy:', score[1])"
      ],
      "execution_count": 0,
      "outputs": [
        {
          "output_type": "stream",
          "text": [
            "Train on 60000 samples, validate on 10000 samples\n",
            "Epoch 1/12\n",
            "60000/60000 [==============================] - 208s 3ms/step - loss: 11.4338 - acc: 0.1039 - val_loss: 14.2887 - val_acc: 0.1135\n",
            "Epoch 2/12\n",
            "60000/60000 [==============================] - 196s 3ms/step - loss: 13.2848 - acc: 0.1094 - val_loss: 14.2887 - val_acc: 0.1135\n",
            "Epoch 3/12\n",
            "60000/60000 [==============================] - 200s 3ms/step - loss: 13.3054 - acc: 0.1082 - val_loss: 14.2887 - val_acc: 0.1135\n",
            "Epoch 4/12\n",
            "60000/60000 [==============================] - 197s 3ms/step - loss: 13.2475 - acc: 0.1097 - val_loss: 14.2887 - val_acc: 0.1135\n",
            "Epoch 5/12\n",
            "60000/60000 [==============================] - 200s 3ms/step - loss: 13.2673 - acc: 0.1094 - val_loss: 14.2887 - val_acc: 0.1135\n",
            "Epoch 6/12\n",
            "60000/60000 [==============================] - 200s 3ms/step - loss: 13.2961 - acc: 0.1085 - val_loss: 14.2887 - val_acc: 0.1135\n",
            "Epoch 7/12\n",
            "60000/60000 [==============================] - 197s 3ms/step - loss: 13.2780 - acc: 0.1099 - val_loss: 14.2887 - val_acc: 0.1135\n",
            "Epoch 8/12\n",
            "60000/60000 [==============================] - 202s 3ms/step - loss: 13.2838 - acc: 0.1093 - val_loss: 14.2887 - val_acc: 0.1135\n",
            "Epoch 9/12\n",
            "60000/60000 [==============================] - 202s 3ms/step - loss: 13.2500 - acc: 0.1097 - val_loss: 14.2887 - val_acc: 0.1135\n",
            "Epoch 10/12\n",
            "60000/60000 [==============================] - 208s 3ms/step - loss: 13.2610 - acc: 0.1097 - val_loss: 14.2887 - val_acc: 0.1135\n",
            "Epoch 11/12\n",
            "60000/60000 [==============================] - 207s 3ms/step - loss: 13.2702 - acc: 0.1098 - val_loss: 14.2887 - val_acc: 0.1135\n",
            "Epoch 12/12\n",
            "60000/60000 [==============================] - 205s 3ms/step - loss: 13.2866 - acc: 0.1096 - val_loss: 14.2887 - val_acc: 0.1135\n",
            "Test loss: 14.28869146270752\n",
            "Test accuracy: 0.1135\n"
          ],
          "name": "stdout"
        }
      ]
    },
    {
      "cell_type": "code",
      "metadata": {
        "id": "W8AADi3Lwmse",
        "colab_type": "code",
        "outputId": "39080d75-ff9a-48f5-c212-61be11c3950c",
        "colab": {
          "base_uri": "https://localhost:8080/",
          "height": 283
        }
      },
      "source": [
        "fig,ax = plt.subplots(1,1)\n",
        "ax.set_xlabel('epoch') ; ax.set_ylabel('Categorical Crossentropy Loss')\n",
        "\n",
        "# list of epoch numbers\n",
        "x = list(range(1,epochs+1))\n",
        "\n",
        "# val_loss : validation loss\n",
        "# val_acc : validation accuracy\n",
        "\n",
        "# loss : training loss\n",
        "# acc : train accuracy\n",
        "\n",
        "vy = history.history['val_loss']\n",
        "ty = history.history['loss']\n",
        "plt_dynamic(x, vy, ty, ax)"
      ],
      "execution_count": 0,
      "outputs": [
        {
          "output_type": "display_data",
          "data": {
            "image/png": "[encoded data removed]",
            "text/plain": [
              "<Figure size 432x288 with 1 Axes>"
            ]
          },
          "metadata": {
            "tags": []
          }
        }
      ]
    },
    {
      "cell_type": "markdown",
      "metadata": {
        "colab_type": "text",
        "id": "FCmMThSB_Qca"
      },
      "source": [
        "<h2>MODEL3 : Seven Convolutional Network with RMSprop as optimizer</h2>"
      ]
    },
    {
      "cell_type": "markdown",
      "metadata": {
        "colab_type": "text",
        "id": "Pj_o9c8J_Qca"
      },
      "source": [
        "<h3>3.1 with kernal_size = (3,3), Dropout = 0.25 and MaxPooling(pool_size =(3,3))"
      ]
    },
    {
      "cell_type": "code",
      "metadata": {
        "colab_type": "code",
        "outputId": "51003087-3717-4af1-e47d-5f26002bade8",
        "id": "5m8GKNut_Qcb",
        "colab": {
          "base_uri": "https://localhost:8080/",
          "height": 508
        }
      },
      "source": [
        "model = Sequential()\n",
        "model.add(Conv2D(32, kernel_size=(3, 3),\n",
        "                 activation='relu',\n",
        "                 input_shape=input_shape))\n",
        "model.add(MaxPooling2D(pool_size=(3, 3)))\n",
        "\n",
        "model.add(Conv2D(45, (3, 3), activation='relu'))\n",
        "model.add(MaxPooling2D(pool_size=(3, 3)))\n",
        "\n",
        "model.add(Conv2D(60, (3, 3), activation='relu', padding='same'))\n",
        "model.add(MaxPooling2D(pool_size=(3, 3), padding='same'))\n",
        "\n",
        "model.add(Conv2D(78, (3, 3), activation='relu', padding='same'))\n",
        "model.add(MaxPooling2D(pool_size=(3, 3), padding='same'))\n",
        "\n",
        "model.add(Conv2D(95, (3, 3), activation='relu', padding='same'))\n",
        "model.add(MaxPooling2D(pool_size=(3, 3), padding='same'))\n",
        "\n",
        "model.add(Conv2D(112, (3, 3), activation='relu', padding='same'))\n",
        "model.add(MaxPooling2D(pool_size=(3, 3), padding='same'))\n",
        "\n",
        "model.add(Conv2D(145, (3, 3), activation='relu', padding='same'))\n",
        "model.add(MaxPooling2D(pool_size=(3, 3), padding='same'))\n",
        "\n",
        "model.add(Flatten())\n",
        "model.add(Dense(128, activation='relu'))\n",
        "model.add(Dropout(0.25))\n",
        "model.add(Dense(num_classes, activation='softmax'))\n",
        "\n",
        "model.compile(loss=keras.losses.categorical_crossentropy,\n",
        "              optimizer=keras.optimizers.RMSprop(),\n",
        "              metrics=['accuracy'])\n",
        "\n",
        "history = model.fit(x_train, y_train,\n",
        "          batch_size=batch_size,\n",
        "          epochs=epochs,\n",
        "          verbose=1,\n",
        "          validation_data=(x_test, y_test))\n",
        "score = model.evaluate(x_test, y_test, verbose=0)\n",
        "print('Test loss:', score[0])\n",
        "print('Test accuracy:', score[1])"
      ],
      "execution_count": 0,
      "outputs": [
        {
          "output_type": "stream",
          "text": [
            "Train on 60000 samples, validate on 10000 samples\n",
            "Epoch 1/12\n",
            "60000/60000 [==============================] - 57s 954us/step - loss: 2.3342 - acc: 0.1844 - val_loss: 2.3024 - val_acc: 0.1135\n",
            "Epoch 2/12\n",
            "60000/60000 [==============================] - 53s 878us/step - loss: 2.3016 - acc: 0.1124 - val_loss: 2.3011 - val_acc: 0.1135\n",
            "Epoch 3/12\n",
            "60000/60000 [==============================] - 52s 873us/step - loss: 2.3013 - acc: 0.1124 - val_loss: 2.3010 - val_acc: 0.1135\n",
            "Epoch 4/12\n",
            "60000/60000 [==============================] - 52s 873us/step - loss: 2.3013 - acc: 0.1124 - val_loss: 2.3011 - val_acc: 0.1135\n",
            "Epoch 5/12\n",
            "60000/60000 [==============================] - 52s 874us/step - loss: 2.3013 - acc: 0.1124 - val_loss: 2.3010 - val_acc: 0.1135\n",
            "Epoch 6/12\n",
            "60000/60000 [==============================] - 52s 870us/step - loss: 2.3013 - acc: 0.1124 - val_loss: 2.3011 - val_acc: 0.1135\n",
            "Epoch 7/12\n",
            "60000/60000 [==============================] - 52s 873us/step - loss: 2.3013 - acc: 0.1124 - val_loss: 2.3011 - val_acc: 0.1135\n",
            "Epoch 8/12\n",
            "60000/60000 [==============================] - 52s 870us/step - loss: 2.3013 - acc: 0.1124 - val_loss: 2.3010 - val_acc: 0.1135\n",
            "Epoch 9/12\n",
            "60000/60000 [==============================] - 52s 867us/step - loss: 2.3013 - acc: 0.1124 - val_loss: 2.3010 - val_acc: 0.1135\n",
            "Epoch 10/12\n",
            "60000/60000 [==============================] - 52s 870us/step - loss: 2.3013 - acc: 0.1124 - val_loss: 2.3010 - val_acc: 0.1135\n",
            "Epoch 11/12\n",
            "60000/60000 [==============================] - 52s 867us/step - loss: 2.3013 - acc: 0.1124 - val_loss: 2.3010 - val_acc: 0.1135\n",
            "Epoch 12/12\n",
            "60000/60000 [==============================] - 52s 869us/step - loss: 2.3013 - acc: 0.1124 - val_loss: 2.3011 - val_acc: 0.1135\n",
            "Test loss: 2.3010625061035155\n",
            "Test accuracy: 0.1135\n"
          ],
          "name": "stdout"
        }
      ]
    },
    {
      "cell_type": "code",
      "metadata": {
        "id": "xiQJPnVJwplP",
        "colab_type": "code",
        "outputId": "049a66ea-22a3-473d-eefe-60e8aff33e56",
        "colab": {
          "base_uri": "https://localhost:8080/",
          "height": 283
        }
      },
      "source": [
        "fig,ax = plt.subplots(1,1)\n",
        "ax.set_xlabel('epoch') ; ax.set_ylabel('Categorical Crossentropy Loss')\n",
        "\n",
        "# list of epoch numbers\n",
        "x = list(range(1,epochs+1))\n",
        "\n",
        "# val_loss : validation loss\n",
        "# val_acc : validation accuracy\n",
        "\n",
        "# loss : training loss\n",
        "# acc : train accuracy\n",
        "\n",
        "vy = history.history['val_loss']\n",
        "ty = history.history['loss']\n",
        "plt_dynamic(x, vy, ty, ax)"
      ],
      "execution_count": 0,
      "outputs": [
        {
          "output_type": "display_data",
          "data": {
            "image/png": "[encoded data removed]",
            "text/plain": [
              "<Figure size 432x288 with 1 Axes>"
            ]
          },
          "metadata": {
            "tags": []
          }
        }
      ]
    },
    {
      "cell_type": "markdown",
      "metadata": {
        "colab_type": "text",
        "id": "JpBSOA36_Qcd"
      },
      "source": [
        "<h3>3.2 with kernal_size = (2,2), BN and MaxPooling</h3>"
      ]
    },
    {
      "cell_type": "code",
      "metadata": {
        "colab_type": "code",
        "outputId": "df8ad210-4fb1-4ee0-dd8c-36c5768f0a3d",
        "id": "lqhtF_gs_Qce",
        "colab": {
          "base_uri": "https://localhost:8080/",
          "height": 508
        }
      },
      "source": [
        "model = Sequential()\n",
        "model.add(Conv2D(22, kernel_size=(2, 2),\n",
        "                 activation='relu',\n",
        "                 input_shape=input_shape))\n",
        "model.add(MaxPooling2D(pool_size=(2, 2)))\n",
        "\n",
        "model.add(Conv2D(45, (2, 2), activation='relu'))\n",
        "model.add(MaxPooling2D(pool_size=(2, 2)))\n",
        "\n",
        "model.add(Conv2D(65, (2, 2), activation='relu', padding='same'))\n",
        "model.add(MaxPooling2D(pool_size=(2, 2), padding='same'))\n",
        "\n",
        "model.add(Conv2D(97, (2, 2), activation='relu', padding='same'))\n",
        "model.add(MaxPooling2D(pool_size=(2, 2), padding='same'))\n",
        "\n",
        "model.add(Conv2D(114, (2, 2), activation='relu', padding='same'))\n",
        "model.add(MaxPooling2D(pool_size=(2, 2), padding='same'))\n",
        "\n",
        "model.add(Conv2D(126, (2, 2), activation='relu', padding='same'))\n",
        "model.add(MaxPooling2D(pool_size=(2, 2), padding='same'))\n",
        "\n",
        "model.add(Conv2D(143, (2, 2), activation='relu', padding='same'))\n",
        "model.add(MaxPooling2D(pool_size=(2, 2), padding='same'))\n",
        "\n",
        "model.add(Flatten())\n",
        "model.add(Dense(97, activation='relu'))\n",
        "model.add(BatchNormalization())\n",
        "\n",
        "model.add(Dense(65, activation='relu'))\n",
        "model.add(BatchNormalization())\n",
        "\n",
        "model.add(Dense(num_classes, activation='softmax'))\n",
        "\n",
        "model.compile(loss=keras.losses.categorical_crossentropy,\n",
        "              optimizer=keras.optimizers.RMSprop(),\n",
        "              metrics=['accuracy'])\n",
        "\n",
        "history = model.fit(x_train, y_train,\n",
        "          batch_size=batch_size,\n",
        "          epochs=epochs,\n",
        "          verbose=1,\n",
        "          validation_data=(x_test, y_test))\n",
        "score = model.evaluate(x_test, y_test, verbose=0)\n",
        "print('Test loss:', score[0])\n",
        "print('Test accuracy:', score[1])"
      ],
      "execution_count": 0,
      "outputs": [
        {
          "output_type": "stream",
          "text": [
            "Train on 60000 samples, validate on 10000 samples\n",
            "Epoch 1/12\n",
            "60000/60000 [==============================] - 51s 852us/step - loss: 0.2137 - acc: 0.9356 - val_loss: 12.6879 - val_acc: 0.2101\n",
            "Epoch 2/12\n",
            "60000/60000 [==============================] - 46s 758us/step - loss: 0.0835 - acc: 0.9751 - val_loss: 12.6732 - val_acc: 0.0958\n",
            "Epoch 3/12\n",
            "60000/60000 [==============================] - 45s 750us/step - loss: 0.2566 - acc: 0.9276 - val_loss: 14.4918 - val_acc: 0.1009\n",
            "Epoch 4/12\n",
            "60000/60000 [==============================] - 47s 776us/step - loss: 0.1935 - acc: 0.9418 - val_loss: 14.4902 - val_acc: 0.1010\n",
            "Epoch 5/12\n",
            "60000/60000 [==============================] - 47s 782us/step - loss: 0.0639 - acc: 0.9805 - val_loss: 14.5477 - val_acc: 0.0958\n",
            "Epoch 6/12\n",
            "60000/60000 [==============================] - 47s 784us/step - loss: 0.0788 - acc: 0.9764 - val_loss: 14.4918 - val_acc: 0.1009\n",
            "Epoch 7/12\n",
            "60000/60000 [==============================] - 48s 794us/step - loss: 0.0602 - acc: 0.9819 - val_loss: 10.7008 - val_acc: 0.1992\n",
            "Epoch 8/12\n",
            "60000/60000 [==============================] - 47s 783us/step - loss: 0.0403 - acc: 0.9876 - val_loss: 11.6996 - val_acc: 0.1091\n",
            "Epoch 9/12\n",
            "60000/60000 [==============================] - 47s 779us/step - loss: 0.0362 - acc: 0.9881 - val_loss: 14.2824 - val_acc: 0.1135\n",
            "Epoch 10/12\n",
            "60000/60000 [==============================] - 47s 780us/step - loss: 0.0509 - acc: 0.9839 - val_loss: 14.5740 - val_acc: 0.0958\n",
            "Epoch 11/12\n",
            "60000/60000 [==============================] - 47s 778us/step - loss: 0.1001 - acc: 0.9695 - val_loss: 9.4936 - val_acc: 0.2988\n",
            "Epoch 12/12\n",
            "60000/60000 [==============================] - 47s 783us/step - loss: 0.0902 - acc: 0.9722 - val_loss: 2.0876 - val_acc: 0.6546\n",
            "Test loss: 2.087562216567993\n",
            "Test accuracy: 0.6546\n"
          ],
          "name": "stdout"
        }
      ]
    },
    {
      "cell_type": "code",
      "metadata": {
        "id": "v4-tA-K3wsKn",
        "colab_type": "code",
        "outputId": "5786763e-baee-40e7-abd2-abe9555583cf",
        "colab": {
          "base_uri": "https://localhost:8080/",
          "height": 283
        }
      },
      "source": [
        "fig,ax = plt.subplots(1,1)\n",
        "ax.set_xlabel('epoch') ; ax.set_ylabel('Categorical Crossentropy Loss')\n",
        "\n",
        "# list of epoch numbers\n",
        "x = list(range(1,epochs+1))\n",
        "\n",
        "# val_loss : validation loss\n",
        "# val_acc : validation accuracy\n",
        "\n",
        "# loss : training loss\n",
        "# acc : train accuracy\n",
        "\n",
        "vy = history.history['val_loss']\n",
        "ty = history.history['loss']\n",
        "plt_dynamic(x, vy, ty, ax)"
      ],
      "execution_count": 0,
      "outputs": [
        {
          "output_type": "display_data",
          "data": {
            "image/png": "[encoded data removed]",
            "text/plain": [
              "<Figure size 432x288 with 1 Axes>"
            ]
          },
          "metadata": {
            "tags": []
          }
        }
      ]
    },
    {
      "cell_type": "markdown",
      "metadata": {
        "colab_type": "text",
        "id": "radUpgBj_Qcg"
      },
      "source": [
        "<h3>3.3 with kernal_size = (5,5), Dropout = 0.3, BN and MaxPooling</h3>"
      ]
    },
    {
      "cell_type": "code",
      "metadata": {
        "colab_type": "code",
        "outputId": "eaee3824-1601-4a27-8417-33291a3c72c2",
        "id": "9rD8M777_Qch",
        "colab": {
          "base_uri": "https://localhost:8080/",
          "height": 508
        }
      },
      "source": [
        "model = Sequential()\n",
        "model.add(Conv2D(12, kernel_size=(5, 5),\n",
        "                 activation='relu',\n",
        "                 input_shape=input_shape))\n",
        "model.add(MaxPooling2D(pool_size=(2, 2)))\n",
        "\n",
        "model.add(Conv2D(43, (5, 5), activation='relu'))\n",
        "model.add(MaxPooling2D(pool_size=(2, 2)))\n",
        "\n",
        "model.add(Conv2D(60, (5, 5), activation='relu', padding='same'))\n",
        "model.add(MaxPooling2D(pool_size=(2, 2), padding='same'))\n",
        "\n",
        "model.add(Conv2D(85, (5, 5), activation='relu', padding='same'))\n",
        "model.add(MaxPooling2D(pool_size=(2, 2), padding='same'))\n",
        "\n",
        "model.add(Conv2D(112, (5, 5), activation='relu', padding='same'))\n",
        "model.add(MaxPooling2D(pool_size=(2, 2), padding='same'))\n",
        "\n",
        "model.add(Conv2D(143, (5, 5), activation='relu', padding='same'))\n",
        "model.add(MaxPooling2D(pool_size=(2, 2), padding='same'))\n",
        "\n",
        "model.add(Conv2D(157, (5, 5), activation='relu', padding='same'))\n",
        "model.add(MaxPooling2D(pool_size=(2, 2), padding='same'))\n",
        "\n",
        "model.add(Flatten())\n",
        "model.add(Dense(98, activation='relu'))\n",
        "model.add(Dropout(0.3))\n",
        "model.add(BatchNormalization())\n",
        "\n",
        "model.add(Dense(56, activation='relu'))\n",
        "model.add(BatchNormalization())\n",
        "model.add(Dropout(0.3))\n",
        "\n",
        "\n",
        "model.add(Dense(num_classes, activation='softmax'))\n",
        "\n",
        "model.compile(loss=keras.losses.categorical_crossentropy,\n",
        "              optimizer=keras.optimizers.RMSprop(),\n",
        "              metrics=['accuracy'])\n",
        "\n",
        "history = model.fit(x_train, y_train,\n",
        "          batch_size=batch_size,\n",
        "          epochs=epochs,\n",
        "          verbose=1,\n",
        "          validation_data=(x_test, y_test))\n",
        "score = model.evaluate(x_test, y_test, verbose=0)\n",
        "print('Test loss:', score[0])\n",
        "print('Test accuracy:', score[1])"
      ],
      "execution_count": 0,
      "outputs": [
        {
          "output_type": "stream",
          "text": [
            "Train on 60000 samples, validate on 10000 samples\n",
            "Epoch 1/12\n",
            "60000/60000 [==============================] - 221s 4ms/step - loss: 2.2941 - acc: 0.1903 - val_loss: 5.8873 - val_acc: 0.1135\n",
            "Epoch 2/12\n",
            "60000/60000 [==============================] - 214s 4ms/step - loss: 2.1791 - acc: 0.1547 - val_loss: 2.9495 - val_acc: 0.1135\n",
            "Epoch 3/12\n",
            "60000/60000 [==============================] - 214s 4ms/step - loss: 2.3021 - acc: 0.1100 - val_loss: 2.3133 - val_acc: 0.1135\n",
            "Epoch 4/12\n",
            "60000/60000 [==============================] - 214s 4ms/step - loss: 2.3018 - acc: 0.1108 - val_loss: 2.3051 - val_acc: 0.1135\n",
            "Epoch 5/12\n",
            "60000/60000 [==============================] - 214s 4ms/step - loss: 2.3017 - acc: 0.1109 - val_loss: 2.3050 - val_acc: 0.0974\n",
            "Epoch 6/12\n",
            "60000/60000 [==============================] - 213s 4ms/step - loss: 2.3016 - acc: 0.1113 - val_loss: 2.3030 - val_acc: 0.1135\n",
            "Epoch 7/12\n",
            "60000/60000 [==============================] - 214s 4ms/step - loss: 2.3016 - acc: 0.1119 - val_loss: 2.3042 - val_acc: 0.0974\n",
            "Epoch 8/12\n",
            "60000/60000 [==============================] - 214s 4ms/step - loss: 2.3015 - acc: 0.1125 - val_loss: 2.3100 - val_acc: 0.1135\n",
            "Epoch 9/12\n",
            "60000/60000 [==============================] - 214s 4ms/step - loss: 2.3016 - acc: 0.1123 - val_loss: 2.3022 - val_acc: 0.1028\n",
            "Epoch 10/12\n",
            "60000/60000 [==============================] - 214s 4ms/step - loss: 2.3015 - acc: 0.1121 - val_loss: 2.3015 - val_acc: 0.1135\n",
            "Epoch 11/12\n",
            "60000/60000 [==============================] - 214s 4ms/step - loss: 2.3015 - acc: 0.1124 - val_loss: 2.3049 - val_acc: 0.1135\n",
            "Epoch 12/12\n",
            "60000/60000 [==============================] - 212s 4ms/step - loss: 2.3016 - acc: 0.1124 - val_loss: 2.3056 - val_acc: 0.1135\n",
            "Test loss: 2.305607932281494\n",
            "Test accuracy: 0.1135\n"
          ],
          "name": "stdout"
        }
      ]
    },
    {
      "cell_type": "code",
      "metadata": {
        "id": "scYfPedZwuPS",
        "colab_type": "code",
        "outputId": "9f2b0eb5-b83b-4ced-f594-be4851fba3ad",
        "colab": {
          "base_uri": "https://localhost:8080/",
          "height": 283
        }
      },
      "source": [
        "fig,ax = plt.subplots(1,1)\n",
        "ax.set_xlabel('epoch') ; ax.set_ylabel('Categorical Crossentropy Loss')\n",
        "\n",
        "# list of epoch numbers\n",
        "x = list(range(1,epochs+1))\n",
        "\n",
        "# val_loss : validation loss\n",
        "# val_acc : validation accuracy\n",
        "\n",
        "# loss : training loss\n",
        "# acc : train accuracy\n",
        "\n",
        "vy = history.history['val_loss']\n",
        "ty = history.history['loss']\n",
        "plt_dynamic(x, vy, ty, ax)"
      ],
      "execution_count": 0,
      "outputs": [
        {
          "output_type": "display_data",
          "data": {
            "image/png": "[encoded data removed]",
            "text/plain": [
              "<Figure size 432x288 with 1 Axes>"
            ]
          },
          "metadata": {
            "tags": []
          }
        }
      ]
    },
    {
      "cell_type": "code",
      "metadata": {
        "colab_type": "code",
        "outputId": "adb0032f-42d4-4fdb-b05c-8b373fe7686a",
        "id": "DcJfvvBG_Qcj",
        "colab": {
          "base_uri": "https://localhost:8080/",
          "height": 254
        }
      },
      "source": [
        "#Activation function is relu in each layers\n",
        "#RMSprop optimizers is used in each case\n",
        "#MaxPooling is used in each case of cnn_layers of pool_size=(2, 2)\n",
        "\n",
        "from prettytable import PrettyTable\n",
        "    \n",
        "x = PrettyTable()\n",
        "\n",
        "x.field_names = [\"No. of CNN_Layers\",\"kernal_size\",\"Batch Normalisations\",\"Dropout\",\"No. of hidden layers\", \"Test loss\", \"Test Accuracy\"]\n",
        "\n",
        "x.add_row([3, (3,3), \"No\", 0.5, 1, 0.026, 0.99])\n",
        "x.add_row([3, (2,2), \"Yes\", \"No dropout\", 1, 0.074, 0.98])\n",
        "x.add_row([3, (5,5), \"Yes\", 0.3, 2, 0.126, 0.96])\n",
        "x.add_row([5, (3,3), \"No\", 0.25, 1, 13.57, 0.15])\n",
        "x.add_row([5, (2,2), \"Yes\", \"No droput\", 3, 0.439, 0.89])\n",
        "x.add_row([5, (5,5), \"Yes\", 0.3, 3, 14.28, 0.11])\n",
        "x.add_row([7, (3,3), \"No\", 0.25, 1, 2.30, 0.11])\n",
        "x.add_row([7, (2,2), \"Yes\", \"No dropout\", 2, 2.08, 0.65])\n",
        "x.add_row([7, (5,5), \"Yes\", 0.3, 2, 2.30, 0.11])\n",
        "print(x)"
      ],
      "execution_count": 1,
      "outputs": [
        {
          "output_type": "stream",
          "text": [
            "+-------------------+-------------+----------------------+------------+----------------------+-----------+---------------+\n",
            "| No. of CNN_Layers | kernal_size | Batch Normalisations |  Dropout   | No. of hidden layers | Test loss | Test Accuracy |\n",
            "+-------------------+-------------+----------------------+------------+----------------------+-----------+---------------+\n",
            "|         3         |    (3, 3)   |          No          |    0.5     |          1           |   0.026   |      0.99     |\n",
            "|         3         |    (2, 2)   |         Yes          | No dropout |          1           |   0.074   |      0.98     |\n",
            "|         3         |    (5, 5)   |         Yes          |    0.3     |          2           |   0.126   |      0.96     |\n",
            "|         5         |    (3, 3)   |          No          |    0.25    |          1           |   13.57   |      0.15     |\n",
            "|         5         |    (2, 2)   |         Yes          | No droput  |          3           |   0.439   |      0.89     |\n",
            "|         5         |    (5, 5)   |         Yes          |    0.3     |          3           |   14.28   |      0.11     |\n",
            "|         7         |    (3, 3)   |          No          |    0.25    |          1           |    2.3    |      0.11     |\n",
            "|         7         |    (2, 2)   |         Yes          | No dropout |          2           |    2.08   |      0.65     |\n",
            "|         7         |    (5, 5)   |         Yes          |    0.3     |          2           |    2.3    |      0.11     |\n",
            "+-------------------+-------------+----------------------+------------+----------------------+-----------+---------------+\n"
          ],
          "name": "stdout"
        }
      ]
    },
    {
      "cell_type": "markdown",
      "metadata": {
        "id": "7fl0xTe_pWYR",
        "colab_type": "text"
      },
      "source": [
        "<h2>step by step procedure far above experiment</h2>"
      ]
    },
    {
      "cell_type": "markdown",
      "metadata": {
        "colab_type": "text",
        "id": "TLd1VOX07FWy"
      },
      "source": [
        "1.Three different architecture of convolution layer has been implemented.There are three , five and seven convolution layers with \"**Adadelta optimizers**\" in each case\n",
        "\n",
        "2.**First architecture i.e. three convolution layer** has been further experimented in three more categories.\n",
        "\n",
        "3.In each categories, with different kernal size, dropout and maxpooling experiment has been performed\n",
        "\n",
        "4.For the first categories kernal size is (3,3), dropout=0.5 and maxpoolsize=(3,3).\n",
        "\n",
        "5.For the second categories kernal size is(2,2), same maxpooling as above with bathnormalisation and with no dropout experiment has been performed.\n",
        "\n",
        "6.For the third categories kernal size is(5,5), same maxpooling with bathnormalisation and dropout= 0.3 experiment has been performed.\n",
        "\n",
        "7.for each categories test score and test accuracy has been evaluated with different parameter.\n",
        "\n",
        "\n",
        "8.**Second architecture (i.e. five convolution layer)** has been further experimented in three more categories in the same way as first architecture.\n",
        "\n",
        "9.In each categories, with different kernal size, dropout and maxpooling experiment has been performed\n",
        "\n",
        "10.For the first categories kernal size is (3,3), dropout=0.25 and maxpoolsize=(3,3).\n",
        "\n",
        "11.For the second categories kernal size is(2,2), same maxpooling as above with bathnormalisation and with no dropout experiment has been performed.\n",
        "\n",
        "12.For the third categories kernal size is(5,5), same maxpooling with bathnormalisation and dropout= 0.3 experiment has been performed.\n",
        "\n",
        "13.for each categories test score and test accuracy has been evaluated with different parameter.\n",
        "\n",
        "\n",
        "14.**Third architecture (i.e. Seven convolution layer)** has been further experimented in three more categories in the same way as first and second architecture.\n",
        "\n",
        "15.In each categories, with different kernal size, dropout and maxpooling experiment has been performed\n",
        "\n",
        "16.For the first categories kernal size is (3,3), dropout=0.25 and maxpoolsize=(3,3).\n",
        "\n",
        "17.For the second categories kernal size is(2,2), same maxpooling as above with bathnormalisation and with no dropout experiment has been performed.\n",
        "\n",
        "18.For the third categories kernal size is(5,5), same maxpooling with bathnormalisation and dropout= 0.3 experiment has been performed.\n",
        "\n",
        "19.for each categories test score and test accuracy has been evaluated with different parameter.\n",
        "\n",
        "20.see the **preetytable** to observe the different result in different case "
      ]
    },
    {
      "cell_type": "markdown",
      "metadata": {
        "id": "K1anLCj7pbDX",
        "colab_type": "text"
      },
      "source": [
        "<h2> Overall observations</h2>"
      ]
    },
    {
      "cell_type": "markdown",
      "metadata": {
        "id": "NBP_rrB1XxQc",
        "colab_type": "text"
      },
      "source": [
        "1.We can observe Adam optimizer is better than Adadelta and RMSprop optimizer\n",
        "\n",
        "2.With Adadelta optimizer test score is very worse when there is five and seven convolution layer\n",
        "\n",
        "3.with batch normalisations and dropout accuracy can be improved much\n",
        "\n",
        "4.with different kernal size we can see different result with lower kernal size test accuracy is much better\n",
        "\n",
        "5.In this assignment I have experimented with different parameter and observe their result in each of the cases using prettytable.\n",
        "\n",
        "6.I enjoyed a lot while doing this experiment."
      ]
    }
  ]
}